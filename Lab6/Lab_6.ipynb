{
 "cells": [
  {
   "cell_type": "markdown",
   "id": "d3cdcd76",
   "metadata": {},
   "source": [
    "## 1)Поиск и выбор набора данных для построения моделей машинного обучения.\n",
    "\n",
    "Для анализа был выбран Dataset «Forbes World's Billionaires List 2022».\n",
    "В нем содержится список людей с различными характеристиками, такими как возраст, доход, пол, сфера деятельности, страна проживания и.т.д, которые можно использовать для подбора собеседников для какого-либо человека из списка.\n",
    "\n",
    "Характеристики и визуализация данных датасета"
   ]
  },
  {
   "cell_type": "code",
   "execution_count": 147,
   "id": "ca9b6c77",
   "metadata": {},
   "outputs": [],
   "source": [
    "from operator import itemgetter\n",
    "from sklearn.impute import SimpleImputer, MissingIndicator\n",
    "from sklearn.metrics import silhouette_score, davies_bouldin_score, calinski_harabasz_score\n",
    "from sklearn.cluster import KMeans, AgglomerativeClustering, Birch, AffinityPropagation, OPTICS, DBSCAN\n",
    "from sklearn.preprocessing import OneHotEncoder\n",
    "from sklearn.preprocessing import MinMaxScaler\n",
    "import numpy as np\n",
    "import pandas as pd\n",
    "import seaborn as sns\n",
    "import math\n",
    "import matplotlib.pyplot as plt\n",
    "import matplotlib.ticker as ticker\n",
    "%matplotlib inline\n",
    "sns.set(style=\"ticks\")"
   ]
  },
  {
   "cell_type": "code",
   "execution_count": 2,
   "id": "7e947253",
   "metadata": {},
   "outputs": [],
   "source": [
    "data = pd.read_csv('forbes_2022_billionaires.csv', sep=\",\")"
   ]
  },
  {
   "cell_type": "markdown",
   "id": "7858ab48",
   "metadata": {},
   "source": [
    "Типы данных столбцов датасета"
   ]
  },
  {
   "cell_type": "code",
   "execution_count": 4,
   "id": "8fd603d5",
   "metadata": {},
   "outputs": [
    {
     "data": {
      "text/plain": [
       "rank                      int64\n",
       "personName               object\n",
       "age                     float64\n",
       "finalWorth              float64\n",
       "year                      int64\n",
       "month                     int64\n",
       "category                 object\n",
       "source                   object\n",
       "country                  object\n",
       "state                    object\n",
       "city                     object\n",
       "countryOfCitizenship     object\n",
       "organization             object\n",
       "selfMade                   bool\n",
       "gender                   object\n",
       "birthDate                object\n",
       "title                    object\n",
       "philanthropyScore       float64\n",
       "residenceMsa             object\n",
       "numberOfSiblings        float64\n",
       "bio                      object\n",
       "about                    object\n",
       "dtype: object"
      ]
     },
     "execution_count": 4,
     "metadata": {},
     "output_type": "execute_result"
    }
   ],
   "source": [
    "data.dtypes"
   ]
  },
  {
   "cell_type": "markdown",
   "id": "ed439cce",
   "metadata": {},
   "source": [
    "Вывод первых 5 строк датасета"
   ]
  },
  {
   "cell_type": "code",
   "execution_count": 5,
   "id": "44481f2f",
   "metadata": {},
   "outputs": [
    {
     "data": {
      "text/html": [
       "<div>\n",
       "<style scoped>\n",
       "    .dataframe tbody tr th:only-of-type {\n",
       "        vertical-align: middle;\n",
       "    }\n",
       "\n",
       "    .dataframe tbody tr th {\n",
       "        vertical-align: top;\n",
       "    }\n",
       "\n",
       "    .dataframe thead th {\n",
       "        text-align: right;\n",
       "    }\n",
       "</style>\n",
       "<table border=\"1\" class=\"dataframe\">\n",
       "  <thead>\n",
       "    <tr style=\"text-align: right;\">\n",
       "      <th></th>\n",
       "      <th>rank</th>\n",
       "      <th>personName</th>\n",
       "      <th>age</th>\n",
       "      <th>finalWorth</th>\n",
       "      <th>year</th>\n",
       "      <th>month</th>\n",
       "      <th>category</th>\n",
       "      <th>source</th>\n",
       "      <th>country</th>\n",
       "      <th>state</th>\n",
       "      <th>...</th>\n",
       "      <th>organization</th>\n",
       "      <th>selfMade</th>\n",
       "      <th>gender</th>\n",
       "      <th>birthDate</th>\n",
       "      <th>title</th>\n",
       "      <th>philanthropyScore</th>\n",
       "      <th>residenceMsa</th>\n",
       "      <th>numberOfSiblings</th>\n",
       "      <th>bio</th>\n",
       "      <th>about</th>\n",
       "    </tr>\n",
       "  </thead>\n",
       "  <tbody>\n",
       "    <tr>\n",
       "      <th>0</th>\n",
       "      <td>1</td>\n",
       "      <td>Elon Musk</td>\n",
       "      <td>50.0</td>\n",
       "      <td>219000.0</td>\n",
       "      <td>2022</td>\n",
       "      <td>4</td>\n",
       "      <td>Automotive</td>\n",
       "      <td>Tesla, SpaceX</td>\n",
       "      <td>United States</td>\n",
       "      <td>Texas</td>\n",
       "      <td>...</td>\n",
       "      <td>Tesla</td>\n",
       "      <td>True</td>\n",
       "      <td>M</td>\n",
       "      <td>1971-06-28</td>\n",
       "      <td>CEO</td>\n",
       "      <td>1.0</td>\n",
       "      <td>NaN</td>\n",
       "      <td>NaN</td>\n",
       "      <td>Elon Musk is working to revolutionize transpor...</td>\n",
       "      <td>Musk was accepted to a graduate program at Sta...</td>\n",
       "    </tr>\n",
       "    <tr>\n",
       "      <th>1</th>\n",
       "      <td>2</td>\n",
       "      <td>Jeff Bezos</td>\n",
       "      <td>58.0</td>\n",
       "      <td>171000.0</td>\n",
       "      <td>2022</td>\n",
       "      <td>4</td>\n",
       "      <td>Technology</td>\n",
       "      <td>Amazon</td>\n",
       "      <td>United States</td>\n",
       "      <td>Washington</td>\n",
       "      <td>...</td>\n",
       "      <td>Amazon</td>\n",
       "      <td>True</td>\n",
       "      <td>M</td>\n",
       "      <td>1964-01-12</td>\n",
       "      <td>Entrepreneur</td>\n",
       "      <td>1.0</td>\n",
       "      <td>Seattle-Tacoma-Bellevue, WA</td>\n",
       "      <td>NaN</td>\n",
       "      <td>Jeff Bezos founded e-commerce giant Amazon in ...</td>\n",
       "      <td>Growing up, Jeff Bezos worked summers on his g...</td>\n",
       "    </tr>\n",
       "    <tr>\n",
       "      <th>2</th>\n",
       "      <td>3</td>\n",
       "      <td>Bernard Arnault &amp; family</td>\n",
       "      <td>73.0</td>\n",
       "      <td>158000.0</td>\n",
       "      <td>2022</td>\n",
       "      <td>4</td>\n",
       "      <td>Fashion &amp; Retail</td>\n",
       "      <td>LVMH</td>\n",
       "      <td>France</td>\n",
       "      <td>NaN</td>\n",
       "      <td>...</td>\n",
       "      <td>LVMH Moët Hennessy Louis Vuitton</td>\n",
       "      <td>False</td>\n",
       "      <td>M</td>\n",
       "      <td>1949-03-05</td>\n",
       "      <td>Chairman and CEO</td>\n",
       "      <td>NaN</td>\n",
       "      <td>NaN</td>\n",
       "      <td>NaN</td>\n",
       "      <td>Bernard Arnault oversees the LVMH empire of so...</td>\n",
       "      <td>Arnault apparently wooed his wife, Helene Merc...</td>\n",
       "    </tr>\n",
       "    <tr>\n",
       "      <th>3</th>\n",
       "      <td>4</td>\n",
       "      <td>Bill Gates</td>\n",
       "      <td>66.0</td>\n",
       "      <td>129000.0</td>\n",
       "      <td>2022</td>\n",
       "      <td>4</td>\n",
       "      <td>Technology</td>\n",
       "      <td>Microsoft</td>\n",
       "      <td>United States</td>\n",
       "      <td>Washington</td>\n",
       "      <td>...</td>\n",
       "      <td>Bill &amp; Melinda Gates Foundation</td>\n",
       "      <td>True</td>\n",
       "      <td>M</td>\n",
       "      <td>1955-10-28</td>\n",
       "      <td>Cofounder</td>\n",
       "      <td>4.0</td>\n",
       "      <td>Seattle-Tacoma-Bellevue, WA</td>\n",
       "      <td>NaN</td>\n",
       "      <td>Bill Gates turned his fortune from software fi...</td>\n",
       "      <td>When Gates was a kid, he spent so much time re...</td>\n",
       "    </tr>\n",
       "    <tr>\n",
       "      <th>4</th>\n",
       "      <td>5</td>\n",
       "      <td>Warren Buffett</td>\n",
       "      <td>91.0</td>\n",
       "      <td>118000.0</td>\n",
       "      <td>2022</td>\n",
       "      <td>4</td>\n",
       "      <td>Finance &amp; Investments</td>\n",
       "      <td>Berkshire Hathaway</td>\n",
       "      <td>United States</td>\n",
       "      <td>Nebraska</td>\n",
       "      <td>...</td>\n",
       "      <td>Berkshire Hathaway</td>\n",
       "      <td>True</td>\n",
       "      <td>M</td>\n",
       "      <td>1930-08-30</td>\n",
       "      <td>CEO</td>\n",
       "      <td>5.0</td>\n",
       "      <td>Omaha, NE</td>\n",
       "      <td>NaN</td>\n",
       "      <td>Known as the \"Oracle of Omaha,\" Warren Buffett...</td>\n",
       "      <td>Buffett still lives in the same Omaha, Nebrask...</td>\n",
       "    </tr>\n",
       "  </tbody>\n",
       "</table>\n",
       "<p>5 rows × 22 columns</p>\n",
       "</div>"
      ],
      "text/plain": [
       "   rank                personName   age  finalWorth  year  month  \\\n",
       "0     1                 Elon Musk  50.0    219000.0  2022      4   \n",
       "1     2                Jeff Bezos  58.0    171000.0  2022      4   \n",
       "2     3  Bernard Arnault & family  73.0    158000.0  2022      4   \n",
       "3     4                Bill Gates  66.0    129000.0  2022      4   \n",
       "4     5            Warren Buffett  91.0    118000.0  2022      4   \n",
       "\n",
       "                category              source        country       state  ...  \\\n",
       "0             Automotive       Tesla, SpaceX  United States       Texas  ...   \n",
       "1             Technology              Amazon  United States  Washington  ...   \n",
       "2       Fashion & Retail                LVMH         France         NaN  ...   \n",
       "3             Technology           Microsoft  United States  Washington  ...   \n",
       "4  Finance & Investments  Berkshire Hathaway  United States    Nebraska  ...   \n",
       "\n",
       "                       organization selfMade gender   birthDate  \\\n",
       "0                             Tesla     True      M  1971-06-28   \n",
       "1                            Amazon     True      M  1964-01-12   \n",
       "2  LVMH Moët Hennessy Louis Vuitton    False      M  1949-03-05   \n",
       "3   Bill & Melinda Gates Foundation     True      M  1955-10-28   \n",
       "4                Berkshire Hathaway     True      M  1930-08-30   \n",
       "\n",
       "              title philanthropyScore                 residenceMsa  \\\n",
       "0               CEO               1.0                          NaN   \n",
       "1      Entrepreneur               1.0  Seattle-Tacoma-Bellevue, WA   \n",
       "2  Chairman and CEO               NaN                          NaN   \n",
       "3         Cofounder               4.0  Seattle-Tacoma-Bellevue, WA   \n",
       "4               CEO               5.0                    Omaha, NE   \n",
       "\n",
       "   numberOfSiblings                                                bio  \\\n",
       "0               NaN  Elon Musk is working to revolutionize transpor...   \n",
       "1               NaN  Jeff Bezos founded e-commerce giant Amazon in ...   \n",
       "2               NaN  Bernard Arnault oversees the LVMH empire of so...   \n",
       "3               NaN  Bill Gates turned his fortune from software fi...   \n",
       "4               NaN  Known as the \"Oracle of Omaha,\" Warren Buffett...   \n",
       "\n",
       "                                               about  \n",
       "0  Musk was accepted to a graduate program at Sta...  \n",
       "1  Growing up, Jeff Bezos worked summers on his g...  \n",
       "2  Arnault apparently wooed his wife, Helene Merc...  \n",
       "3  When Gates was a kid, he spent so much time re...  \n",
       "4  Buffett still lives in the same Omaha, Nebrask...  \n",
       "\n",
       "[5 rows x 22 columns]"
      ]
     },
     "execution_count": 5,
     "metadata": {},
     "output_type": "execute_result"
    }
   ],
   "source": [
    "data.head()"
   ]
  },
  {
   "cell_type": "markdown",
   "id": "9af8ba97",
   "metadata": {},
   "source": [
    "Размер датасета"
   ]
  },
  {
   "cell_type": "code",
   "execution_count": 11,
   "id": "2e7300d2",
   "metadata": {},
   "outputs": [
    {
     "data": {
      "text/plain": [
       "(2668, 22)"
      ]
     },
     "execution_count": 11,
     "metadata": {},
     "output_type": "execute_result"
    }
   ],
   "source": [
    "data.shape"
   ]
  },
  {
   "cell_type": "markdown",
   "id": "e1c12d78",
   "metadata": {},
   "source": [
    "Проверка на наличие пустых значений"
   ]
  },
  {
   "cell_type": "code",
   "execution_count": 12,
   "id": "5bb4dc65",
   "metadata": {},
   "outputs": [
    {
     "name": "stdout",
     "output_type": "stream",
     "text": [
      "rank - 0\n",
      "personName - 0\n",
      "age - 86\n",
      "finalWorth - 0\n",
      "year - 0\n",
      "month - 0\n",
      "category - 0\n",
      "source - 0\n",
      "country - 13\n",
      "state - 1920\n",
      "city - 44\n",
      "countryOfCitizenship - 0\n",
      "organization - 2316\n",
      "selfMade - 0\n",
      "gender - 16\n",
      "birthDate - 99\n",
      "title - 2267\n",
      "philanthropyScore - 2272\n",
      "residenceMsa - 2029\n",
      "numberOfSiblings - 2541\n",
      "bio - 0\n",
      "about - 1106\n"
     ]
    }
   ],
   "source": [
    "for col in data.columns:\n",
    "    temp_null_count = data[data[col].isnull()].shape[0]\n",
    "    print('{} - {}'.format(col, temp_null_count))"
   ]
  },
  {
   "cell_type": "markdown",
   "id": "0ad17c49",
   "metadata": {},
   "source": [
    "## 2) Обработка датасета"
   ]
  },
  {
   "cell_type": "markdown",
   "id": "fb129246",
   "metadata": {},
   "source": [
    "Заметим, что в датасете в некоторых колонках имеются пропуски. А в некоторых колонках пропущено очень много значений. Поэтому прежде чем начинатьпостроение моделей, обработаем пропуски следующим образом:\n",
    "\n",
    "В столбцах age, city, country, gender заполним пропуски средствами импьютации библиотеки scikit-learn. Импьютация медианой."
   ]
  },
  {
   "cell_type": "code",
   "execution_count": 3,
   "id": "7fd62d98",
   "metadata": {},
   "outputs": [
    {
     "data": {
      "text/html": [
       "<div>\n",
       "<style scoped>\n",
       "    .dataframe tbody tr th:only-of-type {\n",
       "        vertical-align: middle;\n",
       "    }\n",
       "\n",
       "    .dataframe tbody tr th {\n",
       "        vertical-align: top;\n",
       "    }\n",
       "\n",
       "    .dataframe thead th {\n",
       "        text-align: right;\n",
       "    }\n",
       "</style>\n",
       "<table border=\"1\" class=\"dataframe\">\n",
       "  <thead>\n",
       "    <tr style=\"text-align: right;\">\n",
       "      <th></th>\n",
       "      <th>age</th>\n",
       "    </tr>\n",
       "  </thead>\n",
       "  <tbody>\n",
       "    <tr>\n",
       "      <th>0</th>\n",
       "      <td>50.0</td>\n",
       "    </tr>\n",
       "    <tr>\n",
       "      <th>1</th>\n",
       "      <td>58.0</td>\n",
       "    </tr>\n",
       "    <tr>\n",
       "      <th>2</th>\n",
       "      <td>73.0</td>\n",
       "    </tr>\n",
       "    <tr>\n",
       "      <th>3</th>\n",
       "      <td>66.0</td>\n",
       "    </tr>\n",
       "    <tr>\n",
       "      <th>4</th>\n",
       "      <td>91.0</td>\n",
       "    </tr>\n",
       "    <tr>\n",
       "      <th>...</th>\n",
       "      <td>...</td>\n",
       "    </tr>\n",
       "    <tr>\n",
       "      <th>2663</th>\n",
       "      <td>66.0</td>\n",
       "    </tr>\n",
       "    <tr>\n",
       "      <th>2664</th>\n",
       "      <td>59.0</td>\n",
       "    </tr>\n",
       "    <tr>\n",
       "      <th>2665</th>\n",
       "      <td>57.0</td>\n",
       "    </tr>\n",
       "    <tr>\n",
       "      <th>2666</th>\n",
       "      <td>43.0</td>\n",
       "    </tr>\n",
       "    <tr>\n",
       "      <th>2667</th>\n",
       "      <td>59.0</td>\n",
       "    </tr>\n",
       "  </tbody>\n",
       "</table>\n",
       "<p>2668 rows × 1 columns</p>\n",
       "</div>"
      ],
      "text/plain": [
       "       age\n",
       "0     50.0\n",
       "1     58.0\n",
       "2     73.0\n",
       "3     66.0\n",
       "4     91.0\n",
       "...    ...\n",
       "2663  66.0\n",
       "2664  59.0\n",
       "2665  57.0\n",
       "2666  43.0\n",
       "2667  59.0\n",
       "\n",
       "[2668 rows x 1 columns]"
      ]
     },
     "execution_count": 3,
     "metadata": {},
     "output_type": "execute_result"
    }
   ],
   "source": [
    "age_data=data[['age']]\n",
    "age_data"
   ]
  },
  {
   "cell_type": "code",
   "execution_count": 4,
   "id": "9e571986",
   "metadata": {},
   "outputs": [
    {
     "data": {
      "text/plain": [
       "array([[50.],\n",
       "       [58.],\n",
       "       [73.],\n",
       "       ...,\n",
       "       [57.],\n",
       "       [43.],\n",
       "       [59.]])"
      ]
     },
     "execution_count": 4,
     "metadata": {},
     "output_type": "execute_result"
    }
   ],
   "source": [
    "imputerAge = SimpleImputer(missing_values=np.nan, strategy='median')\n",
    "full_age = imputerAge.fit_transform(age_data)\n",
    "full_age"
   ]
  },
  {
   "cell_type": "code",
   "execution_count": 5,
   "id": "16c46098",
   "metadata": {},
   "outputs": [
    {
     "data": {
      "text/plain": [
       "array([ 19.,  25.,  26.,  27.,  28.,  29.,  30.,  31.,  32.,  33.,  34.,\n",
       "        35.,  36.,  37.,  38.,  39.,  40.,  41.,  42.,  43.,  44.,  45.,\n",
       "        46.,  47.,  48.,  49.,  50.,  51.,  52.,  53.,  54.,  55.,  56.,\n",
       "        57.,  58.,  59.,  60.,  61.,  62.,  63.,  64.,  65.,  66.,  67.,\n",
       "        68.,  69.,  70.,  71.,  72.,  73.,  74.,  75.,  76.,  77.,  78.,\n",
       "        79.,  80.,  81.,  82.,  83.,  84.,  85.,  86.,  87.,  88.,  89.,\n",
       "        90.,  91.,  92.,  93.,  94.,  95.,  96.,  97.,  98., 100.])"
      ]
     },
     "execution_count": 5,
     "metadata": {},
     "output_type": "execute_result"
    }
   ],
   "source": [
    "np.unique(full_age)"
   ]
  },
  {
   "cell_type": "code",
   "execution_count": 6,
   "id": "d2a58314",
   "metadata": {
    "scrolled": true
   },
   "outputs": [
    {
     "data": {
      "text/html": [
       "<div>\n",
       "<style scoped>\n",
       "    .dataframe tbody tr th:only-of-type {\n",
       "        vertical-align: middle;\n",
       "    }\n",
       "\n",
       "    .dataframe tbody tr th {\n",
       "        vertical-align: top;\n",
       "    }\n",
       "\n",
       "    .dataframe thead th {\n",
       "        text-align: right;\n",
       "    }\n",
       "</style>\n",
       "<table border=\"1\" class=\"dataframe\">\n",
       "  <thead>\n",
       "    <tr style=\"text-align: right;\">\n",
       "      <th></th>\n",
       "      <th>rank</th>\n",
       "      <th>personName</th>\n",
       "      <th>age</th>\n",
       "      <th>finalWorth</th>\n",
       "      <th>year</th>\n",
       "      <th>month</th>\n",
       "      <th>category</th>\n",
       "      <th>source</th>\n",
       "      <th>country</th>\n",
       "      <th>state</th>\n",
       "      <th>...</th>\n",
       "      <th>organization</th>\n",
       "      <th>selfMade</th>\n",
       "      <th>gender</th>\n",
       "      <th>birthDate</th>\n",
       "      <th>title</th>\n",
       "      <th>philanthropyScore</th>\n",
       "      <th>residenceMsa</th>\n",
       "      <th>numberOfSiblings</th>\n",
       "      <th>bio</th>\n",
       "      <th>about</th>\n",
       "    </tr>\n",
       "  </thead>\n",
       "  <tbody>\n",
       "    <tr>\n",
       "      <th>0</th>\n",
       "      <td>1</td>\n",
       "      <td>Elon Musk</td>\n",
       "      <td>50.0</td>\n",
       "      <td>219000.0</td>\n",
       "      <td>2022</td>\n",
       "      <td>4</td>\n",
       "      <td>Automotive</td>\n",
       "      <td>Tesla, SpaceX</td>\n",
       "      <td>United States</td>\n",
       "      <td>Texas</td>\n",
       "      <td>...</td>\n",
       "      <td>Tesla</td>\n",
       "      <td>True</td>\n",
       "      <td>M</td>\n",
       "      <td>1971-06-28</td>\n",
       "      <td>CEO</td>\n",
       "      <td>1.0</td>\n",
       "      <td>NaN</td>\n",
       "      <td>NaN</td>\n",
       "      <td>Elon Musk is working to revolutionize transpor...</td>\n",
       "      <td>Musk was accepted to a graduate program at Sta...</td>\n",
       "    </tr>\n",
       "    <tr>\n",
       "      <th>1</th>\n",
       "      <td>2</td>\n",
       "      <td>Jeff Bezos</td>\n",
       "      <td>58.0</td>\n",
       "      <td>171000.0</td>\n",
       "      <td>2022</td>\n",
       "      <td>4</td>\n",
       "      <td>Technology</td>\n",
       "      <td>Amazon</td>\n",
       "      <td>United States</td>\n",
       "      <td>Washington</td>\n",
       "      <td>...</td>\n",
       "      <td>Amazon</td>\n",
       "      <td>True</td>\n",
       "      <td>M</td>\n",
       "      <td>1964-01-12</td>\n",
       "      <td>Entrepreneur</td>\n",
       "      <td>1.0</td>\n",
       "      <td>Seattle-Tacoma-Bellevue, WA</td>\n",
       "      <td>NaN</td>\n",
       "      <td>Jeff Bezos founded e-commerce giant Amazon in ...</td>\n",
       "      <td>Growing up, Jeff Bezos worked summers on his g...</td>\n",
       "    </tr>\n",
       "    <tr>\n",
       "      <th>2</th>\n",
       "      <td>3</td>\n",
       "      <td>Bernard Arnault &amp; family</td>\n",
       "      <td>73.0</td>\n",
       "      <td>158000.0</td>\n",
       "      <td>2022</td>\n",
       "      <td>4</td>\n",
       "      <td>Fashion &amp; Retail</td>\n",
       "      <td>LVMH</td>\n",
       "      <td>France</td>\n",
       "      <td>NaN</td>\n",
       "      <td>...</td>\n",
       "      <td>LVMH Moët Hennessy Louis Vuitton</td>\n",
       "      <td>False</td>\n",
       "      <td>M</td>\n",
       "      <td>1949-03-05</td>\n",
       "      <td>Chairman and CEO</td>\n",
       "      <td>NaN</td>\n",
       "      <td>NaN</td>\n",
       "      <td>NaN</td>\n",
       "      <td>Bernard Arnault oversees the LVMH empire of so...</td>\n",
       "      <td>Arnault apparently wooed his wife, Helene Merc...</td>\n",
       "    </tr>\n",
       "    <tr>\n",
       "      <th>3</th>\n",
       "      <td>4</td>\n",
       "      <td>Bill Gates</td>\n",
       "      <td>66.0</td>\n",
       "      <td>129000.0</td>\n",
       "      <td>2022</td>\n",
       "      <td>4</td>\n",
       "      <td>Technology</td>\n",
       "      <td>Microsoft</td>\n",
       "      <td>United States</td>\n",
       "      <td>Washington</td>\n",
       "      <td>...</td>\n",
       "      <td>Bill &amp; Melinda Gates Foundation</td>\n",
       "      <td>True</td>\n",
       "      <td>M</td>\n",
       "      <td>1955-10-28</td>\n",
       "      <td>Cofounder</td>\n",
       "      <td>4.0</td>\n",
       "      <td>Seattle-Tacoma-Bellevue, WA</td>\n",
       "      <td>NaN</td>\n",
       "      <td>Bill Gates turned his fortune from software fi...</td>\n",
       "      <td>When Gates was a kid, he spent so much time re...</td>\n",
       "    </tr>\n",
       "    <tr>\n",
       "      <th>4</th>\n",
       "      <td>5</td>\n",
       "      <td>Warren Buffett</td>\n",
       "      <td>91.0</td>\n",
       "      <td>118000.0</td>\n",
       "      <td>2022</td>\n",
       "      <td>4</td>\n",
       "      <td>Finance &amp; Investments</td>\n",
       "      <td>Berkshire Hathaway</td>\n",
       "      <td>United States</td>\n",
       "      <td>Nebraska</td>\n",
       "      <td>...</td>\n",
       "      <td>Berkshire Hathaway</td>\n",
       "      <td>True</td>\n",
       "      <td>M</td>\n",
       "      <td>1930-08-30</td>\n",
       "      <td>CEO</td>\n",
       "      <td>5.0</td>\n",
       "      <td>Omaha, NE</td>\n",
       "      <td>NaN</td>\n",
       "      <td>Known as the \"Oracle of Omaha,\" Warren Buffett...</td>\n",
       "      <td>Buffett still lives in the same Omaha, Nebrask...</td>\n",
       "    </tr>\n",
       "  </tbody>\n",
       "</table>\n",
       "<p>5 rows × 22 columns</p>\n",
       "</div>"
      ],
      "text/plain": [
       "   rank                personName   age  finalWorth  year  month  \\\n",
       "0     1                 Elon Musk  50.0    219000.0  2022      4   \n",
       "1     2                Jeff Bezos  58.0    171000.0  2022      4   \n",
       "2     3  Bernard Arnault & family  73.0    158000.0  2022      4   \n",
       "3     4                Bill Gates  66.0    129000.0  2022      4   \n",
       "4     5            Warren Buffett  91.0    118000.0  2022      4   \n",
       "\n",
       "                category              source        country       state  ...  \\\n",
       "0             Automotive       Tesla, SpaceX  United States       Texas  ...   \n",
       "1             Technology              Amazon  United States  Washington  ...   \n",
       "2       Fashion & Retail                LVMH         France         NaN  ...   \n",
       "3             Technology           Microsoft  United States  Washington  ...   \n",
       "4  Finance & Investments  Berkshire Hathaway  United States    Nebraska  ...   \n",
       "\n",
       "                       organization selfMade gender   birthDate  \\\n",
       "0                             Tesla     True      M  1971-06-28   \n",
       "1                            Amazon     True      M  1964-01-12   \n",
       "2  LVMH Moët Hennessy Louis Vuitton    False      M  1949-03-05   \n",
       "3   Bill & Melinda Gates Foundation     True      M  1955-10-28   \n",
       "4                Berkshire Hathaway     True      M  1930-08-30   \n",
       "\n",
       "              title philanthropyScore                 residenceMsa  \\\n",
       "0               CEO               1.0                          NaN   \n",
       "1      Entrepreneur               1.0  Seattle-Tacoma-Bellevue, WA   \n",
       "2  Chairman and CEO               NaN                          NaN   \n",
       "3         Cofounder               4.0  Seattle-Tacoma-Bellevue, WA   \n",
       "4               CEO               5.0                    Omaha, NE   \n",
       "\n",
       "   numberOfSiblings                                                bio  \\\n",
       "0               NaN  Elon Musk is working to revolutionize transpor...   \n",
       "1               NaN  Jeff Bezos founded e-commerce giant Amazon in ...   \n",
       "2               NaN  Bernard Arnault oversees the LVMH empire of so...   \n",
       "3               NaN  Bill Gates turned his fortune from software fi...   \n",
       "4               NaN  Known as the \"Oracle of Omaha,\" Warren Buffett...   \n",
       "\n",
       "                                               about  \n",
       "0  Musk was accepted to a graduate program at Sta...  \n",
       "1  Growing up, Jeff Bezos worked summers on his g...  \n",
       "2  Arnault apparently wooed his wife, Helene Merc...  \n",
       "3  When Gates was a kid, he spent so much time re...  \n",
       "4  Buffett still lives in the same Omaha, Nebrask...  \n",
       "\n",
       "[5 rows x 22 columns]"
      ]
     },
     "execution_count": 6,
     "metadata": {},
     "output_type": "execute_result"
    }
   ],
   "source": [
    "data['age'] = full_age.reshape(-1)\n",
    "data.head()"
   ]
  },
  {
   "cell_type": "markdown",
   "id": "012ba721",
   "metadata": {},
   "source": [
    "Поля country, gender заполним наиболее частыми значаниями"
   ]
  },
  {
   "cell_type": "code",
   "execution_count": 7,
   "id": "593c6357",
   "metadata": {},
   "outputs": [],
   "source": [
    "country =  data[['country']]\n",
    "gender =  data[['gender']]\n",
    "imp_ccg = SimpleImputer(missing_values=np.nan, strategy='most_frequent')"
   ]
  },
  {
   "cell_type": "code",
   "execution_count": 8,
   "id": "963f0c3b",
   "metadata": {},
   "outputs": [
    {
     "data": {
      "text/plain": [
       "array([['United States'],\n",
       "       ['United States'],\n",
       "       ['France'],\n",
       "       ...,\n",
       "       ['China'],\n",
       "       ['China'],\n",
       "       ['China']], dtype=object)"
      ]
     },
     "execution_count": 8,
     "metadata": {},
     "output_type": "execute_result"
    }
   ],
   "source": [
    "full_country = imp_ccg.fit_transform(country)\n",
    "full_country"
   ]
  },
  {
   "cell_type": "code",
   "execution_count": 9,
   "id": "3381ffa2",
   "metadata": {},
   "outputs": [
    {
     "data": {
      "text/plain": [
       "array([['M'],\n",
       "       ['M'],\n",
       "       ['M'],\n",
       "       ...,\n",
       "       ['M'],\n",
       "       ['F'],\n",
       "       ['M']], dtype=object)"
      ]
     },
     "execution_count": 9,
     "metadata": {},
     "output_type": "execute_result"
    }
   ],
   "source": [
    "full_gender = imp_ccg.fit_transform(gender)\n",
    "full_gender"
   ]
  },
  {
   "cell_type": "code",
   "execution_count": 10,
   "id": "1a340b8f",
   "metadata": {},
   "outputs": [
    {
     "data": {
      "text/html": [
       "<div>\n",
       "<style scoped>\n",
       "    .dataframe tbody tr th:only-of-type {\n",
       "        vertical-align: middle;\n",
       "    }\n",
       "\n",
       "    .dataframe tbody tr th {\n",
       "        vertical-align: top;\n",
       "    }\n",
       "\n",
       "    .dataframe thead th {\n",
       "        text-align: right;\n",
       "    }\n",
       "</style>\n",
       "<table border=\"1\" class=\"dataframe\">\n",
       "  <thead>\n",
       "    <tr style=\"text-align: right;\">\n",
       "      <th></th>\n",
       "      <th>rank</th>\n",
       "      <th>personName</th>\n",
       "      <th>age</th>\n",
       "      <th>finalWorth</th>\n",
       "      <th>year</th>\n",
       "      <th>month</th>\n",
       "      <th>category</th>\n",
       "      <th>source</th>\n",
       "      <th>country</th>\n",
       "      <th>state</th>\n",
       "      <th>...</th>\n",
       "      <th>organization</th>\n",
       "      <th>selfMade</th>\n",
       "      <th>gender</th>\n",
       "      <th>birthDate</th>\n",
       "      <th>title</th>\n",
       "      <th>philanthropyScore</th>\n",
       "      <th>residenceMsa</th>\n",
       "      <th>numberOfSiblings</th>\n",
       "      <th>bio</th>\n",
       "      <th>about</th>\n",
       "    </tr>\n",
       "  </thead>\n",
       "  <tbody>\n",
       "    <tr>\n",
       "      <th>0</th>\n",
       "      <td>1</td>\n",
       "      <td>Elon Musk</td>\n",
       "      <td>50.0</td>\n",
       "      <td>219000.0</td>\n",
       "      <td>2022</td>\n",
       "      <td>4</td>\n",
       "      <td>Automotive</td>\n",
       "      <td>Tesla, SpaceX</td>\n",
       "      <td>United States</td>\n",
       "      <td>Texas</td>\n",
       "      <td>...</td>\n",
       "      <td>Tesla</td>\n",
       "      <td>True</td>\n",
       "      <td>M</td>\n",
       "      <td>1971-06-28</td>\n",
       "      <td>CEO</td>\n",
       "      <td>1.0</td>\n",
       "      <td>NaN</td>\n",
       "      <td>NaN</td>\n",
       "      <td>Elon Musk is working to revolutionize transpor...</td>\n",
       "      <td>Musk was accepted to a graduate program at Sta...</td>\n",
       "    </tr>\n",
       "    <tr>\n",
       "      <th>1</th>\n",
       "      <td>2</td>\n",
       "      <td>Jeff Bezos</td>\n",
       "      <td>58.0</td>\n",
       "      <td>171000.0</td>\n",
       "      <td>2022</td>\n",
       "      <td>4</td>\n",
       "      <td>Technology</td>\n",
       "      <td>Amazon</td>\n",
       "      <td>United States</td>\n",
       "      <td>Washington</td>\n",
       "      <td>...</td>\n",
       "      <td>Amazon</td>\n",
       "      <td>True</td>\n",
       "      <td>M</td>\n",
       "      <td>1964-01-12</td>\n",
       "      <td>Entrepreneur</td>\n",
       "      <td>1.0</td>\n",
       "      <td>Seattle-Tacoma-Bellevue, WA</td>\n",
       "      <td>NaN</td>\n",
       "      <td>Jeff Bezos founded e-commerce giant Amazon in ...</td>\n",
       "      <td>Growing up, Jeff Bezos worked summers on his g...</td>\n",
       "    </tr>\n",
       "    <tr>\n",
       "      <th>2</th>\n",
       "      <td>3</td>\n",
       "      <td>Bernard Arnault &amp; family</td>\n",
       "      <td>73.0</td>\n",
       "      <td>158000.0</td>\n",
       "      <td>2022</td>\n",
       "      <td>4</td>\n",
       "      <td>Fashion &amp; Retail</td>\n",
       "      <td>LVMH</td>\n",
       "      <td>France</td>\n",
       "      <td>NaN</td>\n",
       "      <td>...</td>\n",
       "      <td>LVMH Moët Hennessy Louis Vuitton</td>\n",
       "      <td>False</td>\n",
       "      <td>M</td>\n",
       "      <td>1949-03-05</td>\n",
       "      <td>Chairman and CEO</td>\n",
       "      <td>NaN</td>\n",
       "      <td>NaN</td>\n",
       "      <td>NaN</td>\n",
       "      <td>Bernard Arnault oversees the LVMH empire of so...</td>\n",
       "      <td>Arnault apparently wooed his wife, Helene Merc...</td>\n",
       "    </tr>\n",
       "    <tr>\n",
       "      <th>3</th>\n",
       "      <td>4</td>\n",
       "      <td>Bill Gates</td>\n",
       "      <td>66.0</td>\n",
       "      <td>129000.0</td>\n",
       "      <td>2022</td>\n",
       "      <td>4</td>\n",
       "      <td>Technology</td>\n",
       "      <td>Microsoft</td>\n",
       "      <td>United States</td>\n",
       "      <td>Washington</td>\n",
       "      <td>...</td>\n",
       "      <td>Bill &amp; Melinda Gates Foundation</td>\n",
       "      <td>True</td>\n",
       "      <td>M</td>\n",
       "      <td>1955-10-28</td>\n",
       "      <td>Cofounder</td>\n",
       "      <td>4.0</td>\n",
       "      <td>Seattle-Tacoma-Bellevue, WA</td>\n",
       "      <td>NaN</td>\n",
       "      <td>Bill Gates turned his fortune from software fi...</td>\n",
       "      <td>When Gates was a kid, he spent so much time re...</td>\n",
       "    </tr>\n",
       "    <tr>\n",
       "      <th>4</th>\n",
       "      <td>5</td>\n",
       "      <td>Warren Buffett</td>\n",
       "      <td>91.0</td>\n",
       "      <td>118000.0</td>\n",
       "      <td>2022</td>\n",
       "      <td>4</td>\n",
       "      <td>Finance &amp; Investments</td>\n",
       "      <td>Berkshire Hathaway</td>\n",
       "      <td>United States</td>\n",
       "      <td>Nebraska</td>\n",
       "      <td>...</td>\n",
       "      <td>Berkshire Hathaway</td>\n",
       "      <td>True</td>\n",
       "      <td>M</td>\n",
       "      <td>1930-08-30</td>\n",
       "      <td>CEO</td>\n",
       "      <td>5.0</td>\n",
       "      <td>Omaha, NE</td>\n",
       "      <td>NaN</td>\n",
       "      <td>Known as the \"Oracle of Omaha,\" Warren Buffett...</td>\n",
       "      <td>Buffett still lives in the same Omaha, Nebrask...</td>\n",
       "    </tr>\n",
       "  </tbody>\n",
       "</table>\n",
       "<p>5 rows × 22 columns</p>\n",
       "</div>"
      ],
      "text/plain": [
       "   rank                personName   age  finalWorth  year  month  \\\n",
       "0     1                 Elon Musk  50.0    219000.0  2022      4   \n",
       "1     2                Jeff Bezos  58.0    171000.0  2022      4   \n",
       "2     3  Bernard Arnault & family  73.0    158000.0  2022      4   \n",
       "3     4                Bill Gates  66.0    129000.0  2022      4   \n",
       "4     5            Warren Buffett  91.0    118000.0  2022      4   \n",
       "\n",
       "                category              source        country       state  ...  \\\n",
       "0             Automotive       Tesla, SpaceX  United States       Texas  ...   \n",
       "1             Technology              Amazon  United States  Washington  ...   \n",
       "2       Fashion & Retail                LVMH         France         NaN  ...   \n",
       "3             Technology           Microsoft  United States  Washington  ...   \n",
       "4  Finance & Investments  Berkshire Hathaway  United States    Nebraska  ...   \n",
       "\n",
       "                       organization selfMade gender   birthDate  \\\n",
       "0                             Tesla     True      M  1971-06-28   \n",
       "1                            Amazon     True      M  1964-01-12   \n",
       "2  LVMH Moët Hennessy Louis Vuitton    False      M  1949-03-05   \n",
       "3   Bill & Melinda Gates Foundation     True      M  1955-10-28   \n",
       "4                Berkshire Hathaway     True      M  1930-08-30   \n",
       "\n",
       "              title philanthropyScore                 residenceMsa  \\\n",
       "0               CEO               1.0                          NaN   \n",
       "1      Entrepreneur               1.0  Seattle-Tacoma-Bellevue, WA   \n",
       "2  Chairman and CEO               NaN                          NaN   \n",
       "3         Cofounder               4.0  Seattle-Tacoma-Bellevue, WA   \n",
       "4               CEO               5.0                    Omaha, NE   \n",
       "\n",
       "   numberOfSiblings                                                bio  \\\n",
       "0               NaN  Elon Musk is working to revolutionize transpor...   \n",
       "1               NaN  Jeff Bezos founded e-commerce giant Amazon in ...   \n",
       "2               NaN  Bernard Arnault oversees the LVMH empire of so...   \n",
       "3               NaN  Bill Gates turned his fortune from software fi...   \n",
       "4               NaN  Known as the \"Oracle of Omaha,\" Warren Buffett...   \n",
       "\n",
       "                                               about  \n",
       "0  Musk was accepted to a graduate program at Sta...  \n",
       "1  Growing up, Jeff Bezos worked summers on his g...  \n",
       "2  Arnault apparently wooed his wife, Helene Merc...  \n",
       "3  When Gates was a kid, he spent so much time re...  \n",
       "4  Buffett still lives in the same Omaha, Nebrask...  \n",
       "\n",
       "[5 rows x 22 columns]"
      ]
     },
     "execution_count": 10,
     "metadata": {},
     "output_type": "execute_result"
    }
   ],
   "source": [
    "data['country'] = full_country.reshape(-1)\n",
    "data['gender'] = full_gender.reshape(-1)\n",
    "data.head()"
   ]
  },
  {
   "cell_type": "markdown",
   "id": "1e6dcbd6",
   "metadata": {},
   "source": [
    "Удалим столбцы state, organization, birthDate, title, philanthropyScore, residenceMsa, numberOfSiblings, about, year, month, city, personName, countryOfCitizenship, source, поскольку они либо не представляют интереса для задачи поиска рекомендаций, либо имеют более 60% пропущенных значений. "
   ]
  },
  {
   "cell_type": "code",
   "execution_count": 11,
   "id": "bd77aebc",
   "metadata": {},
   "outputs": [
    {
     "data": {
      "text/html": [
       "<div>\n",
       "<style scoped>\n",
       "    .dataframe tbody tr th:only-of-type {\n",
       "        vertical-align: middle;\n",
       "    }\n",
       "\n",
       "    .dataframe tbody tr th {\n",
       "        vertical-align: top;\n",
       "    }\n",
       "\n",
       "    .dataframe thead th {\n",
       "        text-align: right;\n",
       "    }\n",
       "</style>\n",
       "<table border=\"1\" class=\"dataframe\">\n",
       "  <thead>\n",
       "    <tr style=\"text-align: right;\">\n",
       "      <th></th>\n",
       "      <th>age</th>\n",
       "      <th>finalWorth</th>\n",
       "      <th>category</th>\n",
       "      <th>country</th>\n",
       "      <th>selfMade</th>\n",
       "      <th>gender</th>\n",
       "    </tr>\n",
       "  </thead>\n",
       "  <tbody>\n",
       "    <tr>\n",
       "      <th>0</th>\n",
       "      <td>50.0</td>\n",
       "      <td>219000.0</td>\n",
       "      <td>Automotive</td>\n",
       "      <td>United States</td>\n",
       "      <td>True</td>\n",
       "      <td>M</td>\n",
       "    </tr>\n",
       "    <tr>\n",
       "      <th>1</th>\n",
       "      <td>58.0</td>\n",
       "      <td>171000.0</td>\n",
       "      <td>Technology</td>\n",
       "      <td>United States</td>\n",
       "      <td>True</td>\n",
       "      <td>M</td>\n",
       "    </tr>\n",
       "    <tr>\n",
       "      <th>2</th>\n",
       "      <td>73.0</td>\n",
       "      <td>158000.0</td>\n",
       "      <td>Fashion &amp; Retail</td>\n",
       "      <td>France</td>\n",
       "      <td>False</td>\n",
       "      <td>M</td>\n",
       "    </tr>\n",
       "    <tr>\n",
       "      <th>3</th>\n",
       "      <td>66.0</td>\n",
       "      <td>129000.0</td>\n",
       "      <td>Technology</td>\n",
       "      <td>United States</td>\n",
       "      <td>True</td>\n",
       "      <td>M</td>\n",
       "    </tr>\n",
       "    <tr>\n",
       "      <th>4</th>\n",
       "      <td>91.0</td>\n",
       "      <td>118000.0</td>\n",
       "      <td>Finance &amp; Investments</td>\n",
       "      <td>United States</td>\n",
       "      <td>True</td>\n",
       "      <td>M</td>\n",
       "    </tr>\n",
       "  </tbody>\n",
       "</table>\n",
       "</div>"
      ],
      "text/plain": [
       "    age  finalWorth               category        country  selfMade gender\n",
       "0  50.0    219000.0             Automotive  United States      True      M\n",
       "1  58.0    171000.0             Technology  United States      True      M\n",
       "2  73.0    158000.0       Fashion & Retail         France     False      M\n",
       "3  66.0    129000.0             Technology  United States      True      M\n",
       "4  91.0    118000.0  Finance & Investments  United States      True      M"
      ]
     },
     "execution_count": 11,
     "metadata": {},
     "output_type": "execute_result"
    }
   ],
   "source": [
    "data.drop(['state'], inplace=True, axis=1)\n",
    "data.drop(['organization'], inplace=True, axis=1)\n",
    "data.drop(['birthDate'], inplace=True, axis=1)\n",
    "data.drop(['title'], inplace=True, axis=1)\n",
    "data.drop(['philanthropyScore'], inplace=True, axis=1)\n",
    "data.drop(['residenceMsa'], inplace=True, axis=1)\n",
    "data.drop(['numberOfSiblings'], inplace=True, axis=1)\n",
    "data.drop(['about'], inplace=True, axis=1)\n",
    "data.drop(['year'], inplace=True, axis=1)\n",
    "data.drop(['month'], inplace=True, axis=1)\n",
    "data.drop(['bio'], inplace=True, axis=1)\n",
    "data.drop(['source'], inplace=True, axis=1)\n",
    "data.drop(['personName'], inplace=True, axis=1)\n",
    "data.drop(['countryOfCitizenship'], inplace=True, axis=1)\n",
    "data.drop(['city'], inplace=True, axis=1)\n",
    "data.drop(['rank'], inplace=True, axis=1)\n",
    "data.head()"
   ]
  },
  {
   "cell_type": "markdown",
   "id": "72dd26d9",
   "metadata": {},
   "source": [
    "Поскольку все категориальные столбцы потребуется закодировать, на данном этапе необходимо провести визуализацию данных, пока они представляют понятный для пользователя вид."
   ]
  },
  {
   "cell_type": "markdown",
   "id": "a2fd2a1a",
   "metadata": {},
   "source": [
    "Корелляционная матрица"
   ]
  },
  {
   "cell_type": "code",
   "execution_count": 12,
   "id": "ba530e2e",
   "metadata": {},
   "outputs": [
    {
     "data": {
      "image/png": "[encoded data removed]",
      "text/plain": [
       "<Figure size 1080x360 with 6 Axes>"
      ]
     },
     "metadata": {},
     "output_type": "display_data"
    }
   ],
   "source": [
    "fig, ax = plt.subplots(1, 3, sharex='col', sharey='row', figsize=(15,5))\n",
    "sns.heatmap(data.corr(method='pearson'), ax=ax[0], annot=True, fmt='.2f')\n",
    "sns.heatmap(data.corr(method='kendall'), ax=ax[1], annot=True, fmt='.2f')\n",
    "sns.heatmap(data.corr(method='spearman'), ax=ax[2], annot=True, fmt='.2f')\n",
    "fig.suptitle('Корреляционные матрицы, построенные различными методами')\n",
    "ax[0].title.set_text('Pearson')\n",
    "ax[1].title.set_text('Kendall')\n",
    "ax[2].title.set_text('Spearman')"
   ]
  },
  {
   "cell_type": "markdown",
   "id": "804cdfcd",
   "metadata": {},
   "source": [
    "Во всей матрице корелляций все коэффициенты корелляции достаточно малы, из чего можно сделать вывод, что все признаки слабо коррелируют, выбранный датасет плохо бы подошел для моделей машинного обучения. Однако цель нашего исследования - постараться создать лучшую возможную модель для конкретного датасета."
   ]
  },
  {
   "cell_type": "markdown",
   "id": "07943753",
   "metadata": {},
   "source": [
    "## 3) Визуализация датасета\n",
    "\n",
    "Построим графики и диаграммы необходимых для понимания структуры данных."
   ]
  },
  {
   "cell_type": "markdown",
   "id": "d46fb53a",
   "metadata": {},
   "source": [
    "В какой стране больше всего миллиардеров"
   ]
  },
  {
   "cell_type": "code",
   "execution_count": 28,
   "id": "e5a063b2",
   "metadata": {},
   "outputs": [
    {
     "data": {
      "text/plain": [
       "73"
      ]
     },
     "execution_count": 28,
     "metadata": {},
     "output_type": "execute_result"
    }
   ],
   "source": [
    "len(data[\"country\"].unique())"
   ]
  },
  {
   "cell_type": "code",
   "execution_count": 29,
   "id": "d0f52581",
   "metadata": {},
   "outputs": [],
   "source": [
    "data_country = data.groupby(\"country\")"
   ]
  },
  {
   "cell_type": "code",
   "execution_count": 30,
   "id": "d61fb161",
   "metadata": {},
   "outputs": [],
   "source": [
    "data_country_count = pd.DataFrame(\n",
    "    data_country.size().sort_values(ascending=False), columns=[\"Count\"])"
   ]
  },
  {
   "cell_type": "code",
   "execution_count": 31,
   "id": "171e32ea",
   "metadata": {},
   "outputs": [
    {
     "data": {
      "text/html": [
       "<div>\n",
       "<style scoped>\n",
       "    .dataframe tbody tr th:only-of-type {\n",
       "        vertical-align: middle;\n",
       "    }\n",
       "\n",
       "    .dataframe tbody tr th {\n",
       "        vertical-align: top;\n",
       "    }\n",
       "\n",
       "    .dataframe thead th {\n",
       "        text-align: right;\n",
       "    }\n",
       "</style>\n",
       "<table border=\"1\" class=\"dataframe\">\n",
       "  <thead>\n",
       "    <tr style=\"text-align: right;\">\n",
       "      <th></th>\n",
       "      <th>Count</th>\n",
       "    </tr>\n",
       "    <tr>\n",
       "      <th>country</th>\n",
       "      <th></th>\n",
       "    </tr>\n",
       "  </thead>\n",
       "  <tbody>\n",
       "    <tr>\n",
       "      <th>United States</th>\n",
       "      <td>761</td>\n",
       "    </tr>\n",
       "    <tr>\n",
       "      <th>China</th>\n",
       "      <td>571</td>\n",
       "    </tr>\n",
       "    <tr>\n",
       "      <th>India</th>\n",
       "      <td>159</td>\n",
       "    </tr>\n",
       "    <tr>\n",
       "      <th>Germany</th>\n",
       "      <td>112</td>\n",
       "    </tr>\n",
       "    <tr>\n",
       "      <th>United Kingdom</th>\n",
       "      <td>85</td>\n",
       "    </tr>\n",
       "  </tbody>\n",
       "</table>\n",
       "</div>"
      ],
      "text/plain": [
       "                Count\n",
       "country              \n",
       "United States     761\n",
       "China             571\n",
       "India             159\n",
       "Germany           112\n",
       "United Kingdom     85"
      ]
     },
     "execution_count": 31,
     "metadata": {},
     "output_type": "execute_result"
    }
   ],
   "source": [
    "data_country_count.head()"
   ]
  },
  {
   "cell_type": "code",
   "execution_count": 33,
   "id": "c690f1e5",
   "metadata": {},
   "outputs": [
    {
     "name": "stderr",
     "output_type": "stream",
     "text": [
      "C:\\Users\\Alexandra\\AppData\\Local\\Programs\\Python\\Python310\\lib\\site-packages\\seaborn\\_decorators.py:36: FutureWarning: Pass the following variables as keyword args: x, y. From version 0.12, the only valid positional argument will be `data`, and passing other arguments without an explicit keyword will result in an error or misinterpretation.\n",
      "  warnings.warn(\n"
     ]
    },
    {
     "data": {
      "text/plain": [
       "<AxesSubplot:xlabel='Count', ylabel='country'>"
      ]
     },
     "execution_count": 33,
     "metadata": {},
     "output_type": "execute_result"
    },
    {
     "data": {
      "image/png": "[encoded data removed]",
      "text/plain": [
       "<Figure size 432x288 with 1 Axes>"
      ]
     },
     "metadata": {},
     "output_type": "display_data"
    }
   ],
   "source": [
    "sns.barplot(data_country_count[\"Count\"][:10], data_country_count.index[:10])"
   ]
  },
  {
   "cell_type": "markdown",
   "id": "1604d56a",
   "metadata": {},
   "source": [
    "В какой отрасли больше всего миллиардеров"
   ]
  },
  {
   "cell_type": "code",
   "execution_count": 34,
   "id": "787d4973",
   "metadata": {},
   "outputs": [
    {
     "data": {
      "text/plain": [
       "array(['Automotive', 'Technology', 'Fashion & Retail',\n",
       "       'Finance & Investments', 'Diversified', 'Media & Entertainment',\n",
       "       'Telecom', 'Food & Beverage', 'Logistics', 'Real Estate',\n",
       "       'Metals & Mining', 'Manufacturing', 'Gambling & Casinos',\n",
       "       'Healthcare', 'Service', 'Energy', 'Construction & Engineering',\n",
       "       'Sports'], dtype=object)"
      ]
     },
     "execution_count": 34,
     "metadata": {},
     "output_type": "execute_result"
    }
   ],
   "source": [
    "data[\"category\"].unique()"
   ]
  },
  {
   "cell_type": "code",
   "execution_count": 35,
   "id": "effbc489",
   "metadata": {},
   "outputs": [],
   "source": [
    "data[\"category\"]=data[\"category\"].apply(lambda x:x.replace(\" \",\"\")).\\\n",
    "    apply(lambda x:x.replace(\"&\",\"_\"))"
   ]
  },
  {
   "cell_type": "code",
   "execution_count": 36,
   "id": "cb9d5b11",
   "metadata": {},
   "outputs": [
    {
     "data": {
      "text/plain": [
       "array(['Automotive', 'Technology', 'Fashion_Retail',\n",
       "       'Finance_Investments', 'Diversified', 'Media_Entertainment',\n",
       "       'Telecom', 'Food_Beverage', 'Logistics', 'RealEstate',\n",
       "       'Metals_Mining', 'Manufacturing', 'Gambling_Casinos', 'Healthcare',\n",
       "       'Service', 'Energy', 'Construction_Engineering', 'Sports'],\n",
       "      dtype=object)"
      ]
     },
     "execution_count": 36,
     "metadata": {},
     "output_type": "execute_result"
    }
   ],
   "source": [
    "data[\"category\"].unique()"
   ]
  },
  {
   "cell_type": "code",
   "execution_count": 37,
   "id": "da50d69b",
   "metadata": {},
   "outputs": [],
   "source": [
    "data_category = data.groupby(\"category\").size()"
   ]
  },
  {
   "cell_type": "code",
   "execution_count": 38,
   "id": "9705286b",
   "metadata": {},
   "outputs": [
    {
     "data": {
      "text/plain": [
       "category\n",
       "Automotive                   70\n",
       "Construction_Engineering     46\n",
       "Diversified                 180\n",
       "Energy                       95\n",
       "Fashion_Retail              250\n",
       "dtype: int64"
      ]
     },
     "execution_count": 38,
     "metadata": {},
     "output_type": "execute_result"
    }
   ],
   "source": [
    "data_category.head()"
   ]
  },
  {
   "cell_type": "code",
   "execution_count": 39,
   "id": "fa77881c",
   "metadata": {},
   "outputs": [
    {
     "data": {
      "text/html": [
       "<div>\n",
       "<style scoped>\n",
       "    .dataframe tbody tr th:only-of-type {\n",
       "        vertical-align: middle;\n",
       "    }\n",
       "\n",
       "    .dataframe tbody tr th {\n",
       "        vertical-align: top;\n",
       "    }\n",
       "\n",
       "    .dataframe thead th {\n",
       "        text-align: right;\n",
       "    }\n",
       "</style>\n",
       "<table border=\"1\" class=\"dataframe\">\n",
       "  <thead>\n",
       "    <tr style=\"text-align: right;\">\n",
       "      <th></th>\n",
       "      <th>0</th>\n",
       "    </tr>\n",
       "    <tr>\n",
       "      <th>category</th>\n",
       "      <th></th>\n",
       "    </tr>\n",
       "  </thead>\n",
       "  <tbody>\n",
       "    <tr>\n",
       "      <th>Automotive</th>\n",
       "      <td>70</td>\n",
       "    </tr>\n",
       "    <tr>\n",
       "      <th>Construction_Engineering</th>\n",
       "      <td>46</td>\n",
       "    </tr>\n",
       "    <tr>\n",
       "      <th>Diversified</th>\n",
       "      <td>180</td>\n",
       "    </tr>\n",
       "    <tr>\n",
       "      <th>Energy</th>\n",
       "      <td>95</td>\n",
       "    </tr>\n",
       "    <tr>\n",
       "      <th>Fashion_Retail</th>\n",
       "      <td>250</td>\n",
       "    </tr>\n",
       "  </tbody>\n",
       "</table>\n",
       "</div>"
      ],
      "text/plain": [
       "                            0\n",
       "category                     \n",
       "Automotive                 70\n",
       "Construction_Engineering   46\n",
       "Diversified               180\n",
       "Energy                     95\n",
       "Fashion_Retail            250"
      ]
     },
     "execution_count": 39,
     "metadata": {},
     "output_type": "execute_result"
    }
   ],
   "source": [
    "data_category = data_category.to_frame()\n",
    "data_category.head()"
   ]
  },
  {
   "cell_type": "code",
   "execution_count": 40,
   "id": "6b63d606",
   "metadata": {},
   "outputs": [],
   "source": [
    "data_category=data_category.rename(columns = {0:\"Count\"}).\\\n",
    "    sort_values(by = \"Count\", ascending=False)"
   ]
  },
  {
   "cell_type": "code",
   "execution_count": 41,
   "id": "d0aafd9c",
   "metadata": {},
   "outputs": [
    {
     "data": {
      "text/html": [
       "<div>\n",
       "<style scoped>\n",
       "    .dataframe tbody tr th:only-of-type {\n",
       "        vertical-align: middle;\n",
       "    }\n",
       "\n",
       "    .dataframe tbody tr th {\n",
       "        vertical-align: top;\n",
       "    }\n",
       "\n",
       "    .dataframe thead th {\n",
       "        text-align: right;\n",
       "    }\n",
       "</style>\n",
       "<table border=\"1\" class=\"dataframe\">\n",
       "  <thead>\n",
       "    <tr style=\"text-align: right;\">\n",
       "      <th></th>\n",
       "      <th>Count</th>\n",
       "    </tr>\n",
       "    <tr>\n",
       "      <th>category</th>\n",
       "      <th></th>\n",
       "    </tr>\n",
       "  </thead>\n",
       "  <tbody>\n",
       "    <tr>\n",
       "      <th>Finance_Investments</th>\n",
       "      <td>392</td>\n",
       "    </tr>\n",
       "    <tr>\n",
       "      <th>Technology</th>\n",
       "      <td>343</td>\n",
       "    </tr>\n",
       "    <tr>\n",
       "      <th>Manufacturing</th>\n",
       "      <td>337</td>\n",
       "    </tr>\n",
       "    <tr>\n",
       "      <th>Fashion_Retail</th>\n",
       "      <td>250</td>\n",
       "    </tr>\n",
       "    <tr>\n",
       "      <th>Healthcare</th>\n",
       "      <td>217</td>\n",
       "    </tr>\n",
       "  </tbody>\n",
       "</table>\n",
       "</div>"
      ],
      "text/plain": [
       "                     Count\n",
       "category                  \n",
       "Finance_Investments    392\n",
       "Technology             343\n",
       "Manufacturing          337\n",
       "Fashion_Retail         250\n",
       "Healthcare             217"
      ]
     },
     "execution_count": 41,
     "metadata": {},
     "output_type": "execute_result"
    }
   ],
   "source": [
    "data_category.head()"
   ]
  },
  {
   "cell_type": "code",
   "execution_count": 42,
   "id": "4f8bc3d9",
   "metadata": {},
   "outputs": [
    {
     "name": "stderr",
     "output_type": "stream",
     "text": [
      "C:\\Users\\Alexandra\\AppData\\Local\\Programs\\Python\\Python310\\lib\\site-packages\\seaborn\\_decorators.py:36: FutureWarning: Pass the following variables as keyword args: x, y. From version 0.12, the only valid positional argument will be `data`, and passing other arguments without an explicit keyword will result in an error or misinterpretation.\n",
      "  warnings.warn(\n"
     ]
    },
    {
     "data": {
      "text/plain": [
       "<AxesSubplot:xlabel='Count', ylabel='category'>"
      ]
     },
     "execution_count": 42,
     "metadata": {},
     "output_type": "execute_result"
    },
    {
     "data": {
      "image/png": "[encoded data removed]",
      "text/plain": [
       "<Figure size 432x288 with 1 Axes>"
      ]
     },
     "metadata": {},
     "output_type": "display_data"
    }
   ],
   "source": [
    "sns.barplot(data_category[\"Count\"][:10], data_category.index[:10])"
   ]
  },
  {
   "cell_type": "markdown",
   "id": "4d946673",
   "metadata": {},
   "source": [
    "Взаимосвязь между деньгами и возрастом"
   ]
  },
  {
   "cell_type": "code",
   "execution_count": 43,
   "id": "a9223dd4",
   "metadata": {},
   "outputs": [
    {
     "data": {
      "text/plain": [
       "<AxesSubplot:xlabel='age', ylabel='finalWorth'>"
      ]
     },
     "execution_count": 43,
     "metadata": {},
     "output_type": "execute_result"
    },
    {
     "data": {
      "image/png": "[encoded data removed]",
      "text/plain": [
       "<Figure size 432x288 with 1 Axes>"
      ]
     },
     "metadata": {},
     "output_type": "display_data"
    }
   ],
   "source": [
    "sns.scatterplot(data = data, x=\"age\", y=\"finalWorth\")"
   ]
  },
  {
   "cell_type": "markdown",
   "id": "214940fd",
   "metadata": {},
   "source": [
    "Распределение по возрасту"
   ]
  },
  {
   "cell_type": "code",
   "execution_count": 44,
   "id": "fe82d850",
   "metadata": {},
   "outputs": [
    {
     "data": {
      "text/plain": [
       "<AxesSubplot:xlabel='age', ylabel='Count'>"
      ]
     },
     "execution_count": 44,
     "metadata": {},
     "output_type": "execute_result"
    },
    {
     "data": {
      "image/png": "[encoded data removed]",
      "text/plain": [
       "<Figure size 432x288 with 1 Axes>"
      ]
     },
     "metadata": {},
     "output_type": "display_data"
    }
   ],
   "source": [
    "sns.histplot(data = data, x=\"age\")"
   ]
  },
  {
   "cell_type": "markdown",
   "id": "e29b61ea",
   "metadata": {},
   "source": [
    "## 4) Кодирование данных"
   ]
  },
  {
   "cell_type": "markdown",
   "id": "293f526f",
   "metadata": {},
   "source": [
    "Для методов кластеризации подходят только числовые данные, поэтому придется провести формирование вспомогательных признаков, а именно, преобразование категориальных признаков в числовые. Для этого воспользуемся методом — one-hot."
   ]
  },
  {
   "cell_type": "code",
   "execution_count": 13,
   "id": "c20a2ac4",
   "metadata": {},
   "outputs": [
    {
     "data": {
      "text/html": [
       "<div>\n",
       "<style scoped>\n",
       "    .dataframe tbody tr th:only-of-type {\n",
       "        vertical-align: middle;\n",
       "    }\n",
       "\n",
       "    .dataframe tbody tr th {\n",
       "        vertical-align: top;\n",
       "    }\n",
       "\n",
       "    .dataframe thead th {\n",
       "        text-align: right;\n",
       "    }\n",
       "</style>\n",
       "<table border=\"1\" class=\"dataframe\">\n",
       "  <thead>\n",
       "    <tr style=\"text-align: right;\">\n",
       "      <th></th>\n",
       "      <th>age</th>\n",
       "      <th>finalWorth</th>\n",
       "      <th>category</th>\n",
       "      <th>country</th>\n",
       "      <th>selfMade</th>\n",
       "      <th>gender</th>\n",
       "    </tr>\n",
       "  </thead>\n",
       "  <tbody>\n",
       "    <tr>\n",
       "      <th>0</th>\n",
       "      <td>50.0</td>\n",
       "      <td>219000.0</td>\n",
       "      <td>Automotive</td>\n",
       "      <td>United States</td>\n",
       "      <td>True</td>\n",
       "      <td>1</td>\n",
       "    </tr>\n",
       "    <tr>\n",
       "      <th>1</th>\n",
       "      <td>58.0</td>\n",
       "      <td>171000.0</td>\n",
       "      <td>Technology</td>\n",
       "      <td>United States</td>\n",
       "      <td>True</td>\n",
       "      <td>1</td>\n",
       "    </tr>\n",
       "    <tr>\n",
       "      <th>2</th>\n",
       "      <td>73.0</td>\n",
       "      <td>158000.0</td>\n",
       "      <td>Fashion &amp; Retail</td>\n",
       "      <td>France</td>\n",
       "      <td>False</td>\n",
       "      <td>1</td>\n",
       "    </tr>\n",
       "    <tr>\n",
       "      <th>3</th>\n",
       "      <td>66.0</td>\n",
       "      <td>129000.0</td>\n",
       "      <td>Technology</td>\n",
       "      <td>United States</td>\n",
       "      <td>True</td>\n",
       "      <td>1</td>\n",
       "    </tr>\n",
       "    <tr>\n",
       "      <th>4</th>\n",
       "      <td>91.0</td>\n",
       "      <td>118000.0</td>\n",
       "      <td>Finance &amp; Investments</td>\n",
       "      <td>United States</td>\n",
       "      <td>True</td>\n",
       "      <td>1</td>\n",
       "    </tr>\n",
       "  </tbody>\n",
       "</table>\n",
       "</div>"
      ],
      "text/plain": [
       "    age  finalWorth               category        country  selfMade  gender\n",
       "0  50.0    219000.0             Automotive  United States      True       1\n",
       "1  58.0    171000.0             Technology  United States      True       1\n",
       "2  73.0    158000.0       Fashion & Retail         France     False       1\n",
       "3  66.0    129000.0             Technology  United States      True       1\n",
       "4  91.0    118000.0  Finance & Investments  United States      True       1"
      ]
     },
     "execution_count": 13,
     "metadata": {},
     "output_type": "execute_result"
    }
   ],
   "source": [
    "data['gender'] = data['gender'].replace(to_replace='M', value=1)\n",
    "data['gender'] = data['gender'].replace(to_replace='F', value=0)\n",
    "data.head()"
   ]
  },
  {
   "cell_type": "code",
   "execution_count": 14,
   "id": "64a7bacb",
   "metadata": {},
   "outputs": [
    {
     "data": {
      "text/plain": [
       "73"
      ]
     },
     "execution_count": 14,
     "metadata": {},
     "output_type": "execute_result"
    }
   ],
   "source": [
    "len(data[\"country\"].unique())"
   ]
  },
  {
   "cell_type": "code",
   "execution_count": 15,
   "id": "a8ee1e21",
   "metadata": {},
   "outputs": [
    {
     "data": {
      "text/plain": [
       "18"
      ]
     },
     "execution_count": 15,
     "metadata": {},
     "output_type": "execute_result"
    }
   ],
   "source": [
    "len(data[\"category\"].unique())"
   ]
  },
  {
   "cell_type": "code",
   "execution_count": 16,
   "id": "267c8d01",
   "metadata": {},
   "outputs": [
    {
     "data": {
      "text/html": [
       "<div>\n",
       "<style scoped>\n",
       "    .dataframe tbody tr th:only-of-type {\n",
       "        vertical-align: middle;\n",
       "    }\n",
       "\n",
       "    .dataframe tbody tr th {\n",
       "        vertical-align: top;\n",
       "    }\n",
       "\n",
       "    .dataframe thead th {\n",
       "        text-align: right;\n",
       "    }\n",
       "</style>\n",
       "<table border=\"1\" class=\"dataframe\">\n",
       "  <thead>\n",
       "    <tr style=\"text-align: right;\">\n",
       "      <th></th>\n",
       "      <th>age</th>\n",
       "      <th>finalWorth</th>\n",
       "      <th>category</th>\n",
       "      <th>country</th>\n",
       "      <th>selfMade</th>\n",
       "      <th>gender</th>\n",
       "      <th>country=0</th>\n",
       "      <th>country=1</th>\n",
       "      <th>country=2</th>\n",
       "      <th>country=3</th>\n",
       "      <th>...</th>\n",
       "      <th>country=63</th>\n",
       "      <th>country=64</th>\n",
       "      <th>country=65</th>\n",
       "      <th>country=66</th>\n",
       "      <th>country=67</th>\n",
       "      <th>country=68</th>\n",
       "      <th>country=69</th>\n",
       "      <th>country=70</th>\n",
       "      <th>country=71</th>\n",
       "      <th>country=72</th>\n",
       "    </tr>\n",
       "  </thead>\n",
       "  <tbody>\n",
       "    <tr>\n",
       "      <th>0</th>\n",
       "      <td>50.0</td>\n",
       "      <td>219000.0</td>\n",
       "      <td>Automotive</td>\n",
       "      <td>United States</td>\n",
       "      <td>True</td>\n",
       "      <td>1</td>\n",
       "      <td>0.0</td>\n",
       "      <td>0.0</td>\n",
       "      <td>0.0</td>\n",
       "      <td>0.0</td>\n",
       "      <td>...</td>\n",
       "      <td>0.0</td>\n",
       "      <td>0.0</td>\n",
       "      <td>0.0</td>\n",
       "      <td>0.0</td>\n",
       "      <td>0.0</td>\n",
       "      <td>0.0</td>\n",
       "      <td>0.0</td>\n",
       "      <td>1.0</td>\n",
       "      <td>0.0</td>\n",
       "      <td>0.0</td>\n",
       "    </tr>\n",
       "    <tr>\n",
       "      <th>1</th>\n",
       "      <td>58.0</td>\n",
       "      <td>171000.0</td>\n",
       "      <td>Technology</td>\n",
       "      <td>United States</td>\n",
       "      <td>True</td>\n",
       "      <td>1</td>\n",
       "      <td>0.0</td>\n",
       "      <td>0.0</td>\n",
       "      <td>0.0</td>\n",
       "      <td>0.0</td>\n",
       "      <td>...</td>\n",
       "      <td>0.0</td>\n",
       "      <td>0.0</td>\n",
       "      <td>0.0</td>\n",
       "      <td>0.0</td>\n",
       "      <td>0.0</td>\n",
       "      <td>0.0</td>\n",
       "      <td>0.0</td>\n",
       "      <td>1.0</td>\n",
       "      <td>0.0</td>\n",
       "      <td>0.0</td>\n",
       "    </tr>\n",
       "    <tr>\n",
       "      <th>2</th>\n",
       "      <td>73.0</td>\n",
       "      <td>158000.0</td>\n",
       "      <td>Fashion &amp; Retail</td>\n",
       "      <td>France</td>\n",
       "      <td>False</td>\n",
       "      <td>1</td>\n",
       "      <td>0.0</td>\n",
       "      <td>0.0</td>\n",
       "      <td>0.0</td>\n",
       "      <td>0.0</td>\n",
       "      <td>...</td>\n",
       "      <td>0.0</td>\n",
       "      <td>0.0</td>\n",
       "      <td>0.0</td>\n",
       "      <td>0.0</td>\n",
       "      <td>0.0</td>\n",
       "      <td>0.0</td>\n",
       "      <td>0.0</td>\n",
       "      <td>0.0</td>\n",
       "      <td>0.0</td>\n",
       "      <td>0.0</td>\n",
       "    </tr>\n",
       "    <tr>\n",
       "      <th>3</th>\n",
       "      <td>66.0</td>\n",
       "      <td>129000.0</td>\n",
       "      <td>Technology</td>\n",
       "      <td>United States</td>\n",
       "      <td>True</td>\n",
       "      <td>1</td>\n",
       "      <td>0.0</td>\n",
       "      <td>0.0</td>\n",
       "      <td>0.0</td>\n",
       "      <td>0.0</td>\n",
       "      <td>...</td>\n",
       "      <td>0.0</td>\n",
       "      <td>0.0</td>\n",
       "      <td>0.0</td>\n",
       "      <td>0.0</td>\n",
       "      <td>0.0</td>\n",
       "      <td>0.0</td>\n",
       "      <td>0.0</td>\n",
       "      <td>1.0</td>\n",
       "      <td>0.0</td>\n",
       "      <td>0.0</td>\n",
       "    </tr>\n",
       "    <tr>\n",
       "      <th>4</th>\n",
       "      <td>91.0</td>\n",
       "      <td>118000.0</td>\n",
       "      <td>Finance &amp; Investments</td>\n",
       "      <td>United States</td>\n",
       "      <td>True</td>\n",
       "      <td>1</td>\n",
       "      <td>0.0</td>\n",
       "      <td>0.0</td>\n",
       "      <td>0.0</td>\n",
       "      <td>0.0</td>\n",
       "      <td>...</td>\n",
       "      <td>0.0</td>\n",
       "      <td>0.0</td>\n",
       "      <td>0.0</td>\n",
       "      <td>0.0</td>\n",
       "      <td>0.0</td>\n",
       "      <td>0.0</td>\n",
       "      <td>0.0</td>\n",
       "      <td>1.0</td>\n",
       "      <td>0.0</td>\n",
       "      <td>0.0</td>\n",
       "    </tr>\n",
       "    <tr>\n",
       "      <th>...</th>\n",
       "      <td>...</td>\n",
       "      <td>...</td>\n",
       "      <td>...</td>\n",
       "      <td>...</td>\n",
       "      <td>...</td>\n",
       "      <td>...</td>\n",
       "      <td>...</td>\n",
       "      <td>...</td>\n",
       "      <td>...</td>\n",
       "      <td>...</td>\n",
       "      <td>...</td>\n",
       "      <td>...</td>\n",
       "      <td>...</td>\n",
       "      <td>...</td>\n",
       "      <td>...</td>\n",
       "      <td>...</td>\n",
       "      <td>...</td>\n",
       "      <td>...</td>\n",
       "      <td>...</td>\n",
       "      <td>...</td>\n",
       "      <td>...</td>\n",
       "    </tr>\n",
       "    <tr>\n",
       "      <th>2663</th>\n",
       "      <td>66.0</td>\n",
       "      <td>1000.0</td>\n",
       "      <td>Manufacturing</td>\n",
       "      <td>China</td>\n",
       "      <td>True</td>\n",
       "      <td>1</td>\n",
       "      <td>0.0</td>\n",
       "      <td>0.0</td>\n",
       "      <td>0.0</td>\n",
       "      <td>0.0</td>\n",
       "      <td>...</td>\n",
       "      <td>0.0</td>\n",
       "      <td>0.0</td>\n",
       "      <td>0.0</td>\n",
       "      <td>0.0</td>\n",
       "      <td>0.0</td>\n",
       "      <td>0.0</td>\n",
       "      <td>0.0</td>\n",
       "      <td>0.0</td>\n",
       "      <td>0.0</td>\n",
       "      <td>0.0</td>\n",
       "    </tr>\n",
       "    <tr>\n",
       "      <th>2664</th>\n",
       "      <td>59.0</td>\n",
       "      <td>1000.0</td>\n",
       "      <td>Technology</td>\n",
       "      <td>China</td>\n",
       "      <td>True</td>\n",
       "      <td>1</td>\n",
       "      <td>0.0</td>\n",
       "      <td>0.0</td>\n",
       "      <td>0.0</td>\n",
       "      <td>0.0</td>\n",
       "      <td>...</td>\n",
       "      <td>0.0</td>\n",
       "      <td>0.0</td>\n",
       "      <td>0.0</td>\n",
       "      <td>0.0</td>\n",
       "      <td>0.0</td>\n",
       "      <td>0.0</td>\n",
       "      <td>0.0</td>\n",
       "      <td>0.0</td>\n",
       "      <td>0.0</td>\n",
       "      <td>0.0</td>\n",
       "    </tr>\n",
       "    <tr>\n",
       "      <th>2665</th>\n",
       "      <td>57.0</td>\n",
       "      <td>1000.0</td>\n",
       "      <td>Manufacturing</td>\n",
       "      <td>China</td>\n",
       "      <td>True</td>\n",
       "      <td>1</td>\n",
       "      <td>0.0</td>\n",
       "      <td>0.0</td>\n",
       "      <td>0.0</td>\n",
       "      <td>0.0</td>\n",
       "      <td>...</td>\n",
       "      <td>0.0</td>\n",
       "      <td>0.0</td>\n",
       "      <td>0.0</td>\n",
       "      <td>0.0</td>\n",
       "      <td>0.0</td>\n",
       "      <td>0.0</td>\n",
       "      <td>0.0</td>\n",
       "      <td>0.0</td>\n",
       "      <td>0.0</td>\n",
       "      <td>0.0</td>\n",
       "    </tr>\n",
       "    <tr>\n",
       "      <th>2666</th>\n",
       "      <td>43.0</td>\n",
       "      <td>1000.0</td>\n",
       "      <td>Energy</td>\n",
       "      <td>China</td>\n",
       "      <td>True</td>\n",
       "      <td>0</td>\n",
       "      <td>0.0</td>\n",
       "      <td>0.0</td>\n",
       "      <td>0.0</td>\n",
       "      <td>0.0</td>\n",
       "      <td>...</td>\n",
       "      <td>0.0</td>\n",
       "      <td>0.0</td>\n",
       "      <td>0.0</td>\n",
       "      <td>0.0</td>\n",
       "      <td>0.0</td>\n",
       "      <td>0.0</td>\n",
       "      <td>0.0</td>\n",
       "      <td>0.0</td>\n",
       "      <td>0.0</td>\n",
       "      <td>0.0</td>\n",
       "    </tr>\n",
       "    <tr>\n",
       "      <th>2667</th>\n",
       "      <td>59.0</td>\n",
       "      <td>1000.0</td>\n",
       "      <td>Manufacturing</td>\n",
       "      <td>China</td>\n",
       "      <td>True</td>\n",
       "      <td>1</td>\n",
       "      <td>0.0</td>\n",
       "      <td>0.0</td>\n",
       "      <td>0.0</td>\n",
       "      <td>0.0</td>\n",
       "      <td>...</td>\n",
       "      <td>0.0</td>\n",
       "      <td>0.0</td>\n",
       "      <td>0.0</td>\n",
       "      <td>0.0</td>\n",
       "      <td>0.0</td>\n",
       "      <td>0.0</td>\n",
       "      <td>0.0</td>\n",
       "      <td>0.0</td>\n",
       "      <td>0.0</td>\n",
       "      <td>0.0</td>\n",
       "    </tr>\n",
       "  </tbody>\n",
       "</table>\n",
       "<p>2668 rows × 79 columns</p>\n",
       "</div>"
      ],
      "text/plain": [
       "       age  finalWorth               category        country  selfMade  \\\n",
       "0     50.0    219000.0             Automotive  United States      True   \n",
       "1     58.0    171000.0             Technology  United States      True   \n",
       "2     73.0    158000.0       Fashion & Retail         France     False   \n",
       "3     66.0    129000.0             Technology  United States      True   \n",
       "4     91.0    118000.0  Finance & Investments  United States      True   \n",
       "...    ...         ...                    ...            ...       ...   \n",
       "2663  66.0      1000.0          Manufacturing          China      True   \n",
       "2664  59.0      1000.0             Technology          China      True   \n",
       "2665  57.0      1000.0          Manufacturing          China      True   \n",
       "2666  43.0      1000.0                 Energy          China      True   \n",
       "2667  59.0      1000.0          Manufacturing          China      True   \n",
       "\n",
       "      gender  country=0  country=1  country=2  country=3  ...  country=63  \\\n",
       "0          1        0.0        0.0        0.0        0.0  ...         0.0   \n",
       "1          1        0.0        0.0        0.0        0.0  ...         0.0   \n",
       "2          1        0.0        0.0        0.0        0.0  ...         0.0   \n",
       "3          1        0.0        0.0        0.0        0.0  ...         0.0   \n",
       "4          1        0.0        0.0        0.0        0.0  ...         0.0   \n",
       "...      ...        ...        ...        ...        ...  ...         ...   \n",
       "2663       1        0.0        0.0        0.0        0.0  ...         0.0   \n",
       "2664       1        0.0        0.0        0.0        0.0  ...         0.0   \n",
       "2665       1        0.0        0.0        0.0        0.0  ...         0.0   \n",
       "2666       0        0.0        0.0        0.0        0.0  ...         0.0   \n",
       "2667       1        0.0        0.0        0.0        0.0  ...         0.0   \n",
       "\n",
       "      country=64  country=65  country=66  country=67  country=68  country=69  \\\n",
       "0            0.0         0.0         0.0         0.0         0.0         0.0   \n",
       "1            0.0         0.0         0.0         0.0         0.0         0.0   \n",
       "2            0.0         0.0         0.0         0.0         0.0         0.0   \n",
       "3            0.0         0.0         0.0         0.0         0.0         0.0   \n",
       "4            0.0         0.0         0.0         0.0         0.0         0.0   \n",
       "...          ...         ...         ...         ...         ...         ...   \n",
       "2663         0.0         0.0         0.0         0.0         0.0         0.0   \n",
       "2664         0.0         0.0         0.0         0.0         0.0         0.0   \n",
       "2665         0.0         0.0         0.0         0.0         0.0         0.0   \n",
       "2666         0.0         0.0         0.0         0.0         0.0         0.0   \n",
       "2667         0.0         0.0         0.0         0.0         0.0         0.0   \n",
       "\n",
       "      country=70  country=71  country=72  \n",
       "0            1.0         0.0         0.0  \n",
       "1            1.0         0.0         0.0  \n",
       "2            0.0         0.0         0.0  \n",
       "3            1.0         0.0         0.0  \n",
       "4            1.0         0.0         0.0  \n",
       "...          ...         ...         ...  \n",
       "2663         0.0         0.0         0.0  \n",
       "2664         0.0         0.0         0.0  \n",
       "2665         0.0         0.0         0.0  \n",
       "2666         0.0         0.0         0.0  \n",
       "2667         0.0         0.0         0.0  \n",
       "\n",
       "[2668 rows x 79 columns]"
      ]
     },
     "execution_count": 16,
     "metadata": {},
     "output_type": "execute_result"
    }
   ],
   "source": [
    "ohe = OneHotEncoder(sparse=False)\n",
    "ohe_ftrs = ohe.fit_transform(data['country'].values.reshape(-1,1))\n",
    "tmp = pd.DataFrame(ohe_ftrs, columns = ['country=' + str(i) for i in range(ohe_ftrs.shape[1])])\n",
    "data = pd.concat([data, tmp], axis=1)\n",
    "data"
   ]
  },
  {
   "cell_type": "code",
   "execution_count": 17,
   "id": "3fcf928f",
   "metadata": {},
   "outputs": [
    {
     "data": {
      "text/html": [
       "<div>\n",
       "<style scoped>\n",
       "    .dataframe tbody tr th:only-of-type {\n",
       "        vertical-align: middle;\n",
       "    }\n",
       "\n",
       "    .dataframe tbody tr th {\n",
       "        vertical-align: top;\n",
       "    }\n",
       "\n",
       "    .dataframe thead th {\n",
       "        text-align: right;\n",
       "    }\n",
       "</style>\n",
       "<table border=\"1\" class=\"dataframe\">\n",
       "  <thead>\n",
       "    <tr style=\"text-align: right;\">\n",
       "      <th></th>\n",
       "      <th>age</th>\n",
       "      <th>finalWorth</th>\n",
       "      <th>category</th>\n",
       "      <th>country</th>\n",
       "      <th>selfMade</th>\n",
       "      <th>gender</th>\n",
       "      <th>country=0</th>\n",
       "      <th>country=1</th>\n",
       "      <th>country=2</th>\n",
       "      <th>country=3</th>\n",
       "      <th>...</th>\n",
       "      <th>category=8</th>\n",
       "      <th>category=9</th>\n",
       "      <th>category=10</th>\n",
       "      <th>category=11</th>\n",
       "      <th>category=12</th>\n",
       "      <th>category=13</th>\n",
       "      <th>category=14</th>\n",
       "      <th>category=15</th>\n",
       "      <th>category=16</th>\n",
       "      <th>category=17</th>\n",
       "    </tr>\n",
       "  </thead>\n",
       "  <tbody>\n",
       "    <tr>\n",
       "      <th>0</th>\n",
       "      <td>50.0</td>\n",
       "      <td>219000.0</td>\n",
       "      <td>Automotive</td>\n",
       "      <td>United States</td>\n",
       "      <td>True</td>\n",
       "      <td>1</td>\n",
       "      <td>0.0</td>\n",
       "      <td>0.0</td>\n",
       "      <td>0.0</td>\n",
       "      <td>0.0</td>\n",
       "      <td>...</td>\n",
       "      <td>0.0</td>\n",
       "      <td>0.0</td>\n",
       "      <td>0.0</td>\n",
       "      <td>0.0</td>\n",
       "      <td>0.0</td>\n",
       "      <td>0.0</td>\n",
       "      <td>0.0</td>\n",
       "      <td>0.0</td>\n",
       "      <td>0.0</td>\n",
       "      <td>0.0</td>\n",
       "    </tr>\n",
       "    <tr>\n",
       "      <th>1</th>\n",
       "      <td>58.0</td>\n",
       "      <td>171000.0</td>\n",
       "      <td>Technology</td>\n",
       "      <td>United States</td>\n",
       "      <td>True</td>\n",
       "      <td>1</td>\n",
       "      <td>0.0</td>\n",
       "      <td>0.0</td>\n",
       "      <td>0.0</td>\n",
       "      <td>0.0</td>\n",
       "      <td>...</td>\n",
       "      <td>0.0</td>\n",
       "      <td>0.0</td>\n",
       "      <td>0.0</td>\n",
       "      <td>0.0</td>\n",
       "      <td>0.0</td>\n",
       "      <td>0.0</td>\n",
       "      <td>0.0</td>\n",
       "      <td>0.0</td>\n",
       "      <td>1.0</td>\n",
       "      <td>0.0</td>\n",
       "    </tr>\n",
       "    <tr>\n",
       "      <th>2</th>\n",
       "      <td>73.0</td>\n",
       "      <td>158000.0</td>\n",
       "      <td>Fashion &amp; Retail</td>\n",
       "      <td>France</td>\n",
       "      <td>False</td>\n",
       "      <td>1</td>\n",
       "      <td>0.0</td>\n",
       "      <td>0.0</td>\n",
       "      <td>0.0</td>\n",
       "      <td>0.0</td>\n",
       "      <td>...</td>\n",
       "      <td>0.0</td>\n",
       "      <td>0.0</td>\n",
       "      <td>0.0</td>\n",
       "      <td>0.0</td>\n",
       "      <td>0.0</td>\n",
       "      <td>0.0</td>\n",
       "      <td>0.0</td>\n",
       "      <td>0.0</td>\n",
       "      <td>0.0</td>\n",
       "      <td>0.0</td>\n",
       "    </tr>\n",
       "    <tr>\n",
       "      <th>3</th>\n",
       "      <td>66.0</td>\n",
       "      <td>129000.0</td>\n",
       "      <td>Technology</td>\n",
       "      <td>United States</td>\n",
       "      <td>True</td>\n",
       "      <td>1</td>\n",
       "      <td>0.0</td>\n",
       "      <td>0.0</td>\n",
       "      <td>0.0</td>\n",
       "      <td>0.0</td>\n",
       "      <td>...</td>\n",
       "      <td>0.0</td>\n",
       "      <td>0.0</td>\n",
       "      <td>0.0</td>\n",
       "      <td>0.0</td>\n",
       "      <td>0.0</td>\n",
       "      <td>0.0</td>\n",
       "      <td>0.0</td>\n",
       "      <td>0.0</td>\n",
       "      <td>1.0</td>\n",
       "      <td>0.0</td>\n",
       "    </tr>\n",
       "    <tr>\n",
       "      <th>4</th>\n",
       "      <td>91.0</td>\n",
       "      <td>118000.0</td>\n",
       "      <td>Finance &amp; Investments</td>\n",
       "      <td>United States</td>\n",
       "      <td>True</td>\n",
       "      <td>1</td>\n",
       "      <td>0.0</td>\n",
       "      <td>0.0</td>\n",
       "      <td>0.0</td>\n",
       "      <td>0.0</td>\n",
       "      <td>...</td>\n",
       "      <td>0.0</td>\n",
       "      <td>0.0</td>\n",
       "      <td>0.0</td>\n",
       "      <td>0.0</td>\n",
       "      <td>0.0</td>\n",
       "      <td>0.0</td>\n",
       "      <td>0.0</td>\n",
       "      <td>0.0</td>\n",
       "      <td>0.0</td>\n",
       "      <td>0.0</td>\n",
       "    </tr>\n",
       "    <tr>\n",
       "      <th>...</th>\n",
       "      <td>...</td>\n",
       "      <td>...</td>\n",
       "      <td>...</td>\n",
       "      <td>...</td>\n",
       "      <td>...</td>\n",
       "      <td>...</td>\n",
       "      <td>...</td>\n",
       "      <td>...</td>\n",
       "      <td>...</td>\n",
       "      <td>...</td>\n",
       "      <td>...</td>\n",
       "      <td>...</td>\n",
       "      <td>...</td>\n",
       "      <td>...</td>\n",
       "      <td>...</td>\n",
       "      <td>...</td>\n",
       "      <td>...</td>\n",
       "      <td>...</td>\n",
       "      <td>...</td>\n",
       "      <td>...</td>\n",
       "      <td>...</td>\n",
       "    </tr>\n",
       "    <tr>\n",
       "      <th>2663</th>\n",
       "      <td>66.0</td>\n",
       "      <td>1000.0</td>\n",
       "      <td>Manufacturing</td>\n",
       "      <td>China</td>\n",
       "      <td>True</td>\n",
       "      <td>1</td>\n",
       "      <td>0.0</td>\n",
       "      <td>0.0</td>\n",
       "      <td>0.0</td>\n",
       "      <td>0.0</td>\n",
       "      <td>...</td>\n",
       "      <td>0.0</td>\n",
       "      <td>0.0</td>\n",
       "      <td>1.0</td>\n",
       "      <td>0.0</td>\n",
       "      <td>0.0</td>\n",
       "      <td>0.0</td>\n",
       "      <td>0.0</td>\n",
       "      <td>0.0</td>\n",
       "      <td>0.0</td>\n",
       "      <td>0.0</td>\n",
       "    </tr>\n",
       "    <tr>\n",
       "      <th>2664</th>\n",
       "      <td>59.0</td>\n",
       "      <td>1000.0</td>\n",
       "      <td>Technology</td>\n",
       "      <td>China</td>\n",
       "      <td>True</td>\n",
       "      <td>1</td>\n",
       "      <td>0.0</td>\n",
       "      <td>0.0</td>\n",
       "      <td>0.0</td>\n",
       "      <td>0.0</td>\n",
       "      <td>...</td>\n",
       "      <td>0.0</td>\n",
       "      <td>0.0</td>\n",
       "      <td>0.0</td>\n",
       "      <td>0.0</td>\n",
       "      <td>0.0</td>\n",
       "      <td>0.0</td>\n",
       "      <td>0.0</td>\n",
       "      <td>0.0</td>\n",
       "      <td>1.0</td>\n",
       "      <td>0.0</td>\n",
       "    </tr>\n",
       "    <tr>\n",
       "      <th>2665</th>\n",
       "      <td>57.0</td>\n",
       "      <td>1000.0</td>\n",
       "      <td>Manufacturing</td>\n",
       "      <td>China</td>\n",
       "      <td>True</td>\n",
       "      <td>1</td>\n",
       "      <td>0.0</td>\n",
       "      <td>0.0</td>\n",
       "      <td>0.0</td>\n",
       "      <td>0.0</td>\n",
       "      <td>...</td>\n",
       "      <td>0.0</td>\n",
       "      <td>0.0</td>\n",
       "      <td>1.0</td>\n",
       "      <td>0.0</td>\n",
       "      <td>0.0</td>\n",
       "      <td>0.0</td>\n",
       "      <td>0.0</td>\n",
       "      <td>0.0</td>\n",
       "      <td>0.0</td>\n",
       "      <td>0.0</td>\n",
       "    </tr>\n",
       "    <tr>\n",
       "      <th>2666</th>\n",
       "      <td>43.0</td>\n",
       "      <td>1000.0</td>\n",
       "      <td>Energy</td>\n",
       "      <td>China</td>\n",
       "      <td>True</td>\n",
       "      <td>0</td>\n",
       "      <td>0.0</td>\n",
       "      <td>0.0</td>\n",
       "      <td>0.0</td>\n",
       "      <td>0.0</td>\n",
       "      <td>...</td>\n",
       "      <td>0.0</td>\n",
       "      <td>0.0</td>\n",
       "      <td>0.0</td>\n",
       "      <td>0.0</td>\n",
       "      <td>0.0</td>\n",
       "      <td>0.0</td>\n",
       "      <td>0.0</td>\n",
       "      <td>0.0</td>\n",
       "      <td>0.0</td>\n",
       "      <td>0.0</td>\n",
       "    </tr>\n",
       "    <tr>\n",
       "      <th>2667</th>\n",
       "      <td>59.0</td>\n",
       "      <td>1000.0</td>\n",
       "      <td>Manufacturing</td>\n",
       "      <td>China</td>\n",
       "      <td>True</td>\n",
       "      <td>1</td>\n",
       "      <td>0.0</td>\n",
       "      <td>0.0</td>\n",
       "      <td>0.0</td>\n",
       "      <td>0.0</td>\n",
       "      <td>...</td>\n",
       "      <td>0.0</td>\n",
       "      <td>0.0</td>\n",
       "      <td>1.0</td>\n",
       "      <td>0.0</td>\n",
       "      <td>0.0</td>\n",
       "      <td>0.0</td>\n",
       "      <td>0.0</td>\n",
       "      <td>0.0</td>\n",
       "      <td>0.0</td>\n",
       "      <td>0.0</td>\n",
       "    </tr>\n",
       "  </tbody>\n",
       "</table>\n",
       "<p>2668 rows × 97 columns</p>\n",
       "</div>"
      ],
      "text/plain": [
       "       age  finalWorth               category        country  selfMade  \\\n",
       "0     50.0    219000.0             Automotive  United States      True   \n",
       "1     58.0    171000.0             Technology  United States      True   \n",
       "2     73.0    158000.0       Fashion & Retail         France     False   \n",
       "3     66.0    129000.0             Technology  United States      True   \n",
       "4     91.0    118000.0  Finance & Investments  United States      True   \n",
       "...    ...         ...                    ...            ...       ...   \n",
       "2663  66.0      1000.0          Manufacturing          China      True   \n",
       "2664  59.0      1000.0             Technology          China      True   \n",
       "2665  57.0      1000.0          Manufacturing          China      True   \n",
       "2666  43.0      1000.0                 Energy          China      True   \n",
       "2667  59.0      1000.0          Manufacturing          China      True   \n",
       "\n",
       "      gender  country=0  country=1  country=2  country=3  ...  category=8  \\\n",
       "0          1        0.0        0.0        0.0        0.0  ...         0.0   \n",
       "1          1        0.0        0.0        0.0        0.0  ...         0.0   \n",
       "2          1        0.0        0.0        0.0        0.0  ...         0.0   \n",
       "3          1        0.0        0.0        0.0        0.0  ...         0.0   \n",
       "4          1        0.0        0.0        0.0        0.0  ...         0.0   \n",
       "...      ...        ...        ...        ...        ...  ...         ...   \n",
       "2663       1        0.0        0.0        0.0        0.0  ...         0.0   \n",
       "2664       1        0.0        0.0        0.0        0.0  ...         0.0   \n",
       "2665       1        0.0        0.0        0.0        0.0  ...         0.0   \n",
       "2666       0        0.0        0.0        0.0        0.0  ...         0.0   \n",
       "2667       1        0.0        0.0        0.0        0.0  ...         0.0   \n",
       "\n",
       "      category=9  category=10  category=11  category=12  category=13  \\\n",
       "0            0.0          0.0          0.0          0.0          0.0   \n",
       "1            0.0          0.0          0.0          0.0          0.0   \n",
       "2            0.0          0.0          0.0          0.0          0.0   \n",
       "3            0.0          0.0          0.0          0.0          0.0   \n",
       "4            0.0          0.0          0.0          0.0          0.0   \n",
       "...          ...          ...          ...          ...          ...   \n",
       "2663         0.0          1.0          0.0          0.0          0.0   \n",
       "2664         0.0          0.0          0.0          0.0          0.0   \n",
       "2665         0.0          1.0          0.0          0.0          0.0   \n",
       "2666         0.0          0.0          0.0          0.0          0.0   \n",
       "2667         0.0          1.0          0.0          0.0          0.0   \n",
       "\n",
       "      category=14  category=15  category=16  category=17  \n",
       "0             0.0          0.0          0.0          0.0  \n",
       "1             0.0          0.0          1.0          0.0  \n",
       "2             0.0          0.0          0.0          0.0  \n",
       "3             0.0          0.0          1.0          0.0  \n",
       "4             0.0          0.0          0.0          0.0  \n",
       "...           ...          ...          ...          ...  \n",
       "2663          0.0          0.0          0.0          0.0  \n",
       "2664          0.0          0.0          1.0          0.0  \n",
       "2665          0.0          0.0          0.0          0.0  \n",
       "2666          0.0          0.0          0.0          0.0  \n",
       "2667          0.0          0.0          0.0          0.0  \n",
       "\n",
       "[2668 rows x 97 columns]"
      ]
     },
     "execution_count": 17,
     "metadata": {},
     "output_type": "execute_result"
    }
   ],
   "source": [
    "ohe = OneHotEncoder(sparse=False)\n",
    "ohe_ftrs = ohe.fit_transform(data['category'].values.reshape(-1,1))\n",
    "tmp = pd.DataFrame(ohe_ftrs, columns = ['category=' + str(i) for i in range(ohe_ftrs.shape[1])])\n",
    "data = pd.concat([data, tmp], axis=1)\n",
    "data"
   ]
  },
  {
   "cell_type": "code",
   "execution_count": 18,
   "id": "93608b7b",
   "metadata": {},
   "outputs": [],
   "source": [
    "data.drop(['country'], inplace=True, axis=1)\n",
    "data.drop(['category'], inplace=True, axis=1)"
   ]
  },
  {
   "cell_type": "markdown",
   "id": "304a4799",
   "metadata": {},
   "source": [
    "Масштабирование столбца с финансовым состоянием."
   ]
  },
  {
   "cell_type": "code",
   "execution_count": 19,
   "id": "c07cb55a",
   "metadata": {},
   "outputs": [],
   "source": [
    "data['finalWorth'] = data['finalWorth'].astype('int64')"
   ]
  },
  {
   "cell_type": "code",
   "execution_count": 20,
   "id": "5a838236",
   "metadata": {},
   "outputs": [],
   "source": [
    "sc1 = MinMaxScaler()\n",
    "data_array = sc1.fit_transform(data[['finalWorth']])\n",
    "data_age = sc1.fit_transform(data[['age']])"
   ]
  },
  {
   "cell_type": "code",
   "execution_count": 21,
   "id": "88eddb4f",
   "metadata": {},
   "outputs": [
    {
     "data": {
      "text/plain": [
       "array([[0.38271605],\n",
       "       [0.48148148],\n",
       "       [0.66666667],\n",
       "       ...,\n",
       "       [0.4691358 ],\n",
       "       [0.2962963 ],\n",
       "       [0.49382716]])"
      ]
     },
     "execution_count": 21,
     "metadata": {},
     "output_type": "execute_result"
    }
   ],
   "source": [
    "data_age"
   ]
  },
  {
   "cell_type": "code",
   "execution_count": 22,
   "id": "e15bc21c",
   "metadata": {},
   "outputs": [
    {
     "data": {
      "image/png": "[encoded data removed]",
      "text/plain": [
       "<Figure size 432x288 with 1 Axes>"
      ]
     },
     "metadata": {},
     "output_type": "display_data"
    }
   ],
   "source": [
    "plt.hist(data_age, 50)\n",
    "plt.show()"
   ]
  },
  {
   "cell_type": "code",
   "execution_count": 23,
   "id": "6bf5b096",
   "metadata": {},
   "outputs": [
    {
     "data": {
      "text/plain": [
       "array([[1.        ],\n",
       "       [0.77981651],\n",
       "       [0.72018349],\n",
       "       ...,\n",
       "       [0.        ],\n",
       "       [0.        ],\n",
       "       [0.        ]])"
      ]
     },
     "execution_count": 23,
     "metadata": {},
     "output_type": "execute_result"
    }
   ],
   "source": [
    "data_array"
   ]
  },
  {
   "cell_type": "code",
   "execution_count": 24,
   "id": "487c0931",
   "metadata": {},
   "outputs": [
    {
     "data": {
      "image/png": "[encoded data removed]",
      "text/plain": [
       "<Figure size 432x288 with 1 Axes>"
      ]
     },
     "metadata": {},
     "output_type": "display_data"
    }
   ],
   "source": [
    "plt.hist(data_array, 50)\n",
    "plt.show()"
   ]
  },
  {
   "cell_type": "code",
   "execution_count": 25,
   "id": "9342ef95",
   "metadata": {},
   "outputs": [],
   "source": [
    "data.drop(['finalWorth'], inplace=True, axis=1)\n",
    "data['finalWorth'] = data_array\n",
    "data.drop(['age'], inplace=True, axis=1)\n",
    "data['age'] = data_age"
   ]
  },
  {
   "cell_type": "code",
   "execution_count": 26,
   "id": "5fcb3b74",
   "metadata": {},
   "outputs": [
    {
     "data": {
      "text/html": [
       "<div>\n",
       "<style scoped>\n",
       "    .dataframe tbody tr th:only-of-type {\n",
       "        vertical-align: middle;\n",
       "    }\n",
       "\n",
       "    .dataframe tbody tr th {\n",
       "        vertical-align: top;\n",
       "    }\n",
       "\n",
       "    .dataframe thead th {\n",
       "        text-align: right;\n",
       "    }\n",
       "</style>\n",
       "<table border=\"1\" class=\"dataframe\">\n",
       "  <thead>\n",
       "    <tr style=\"text-align: right;\">\n",
       "      <th></th>\n",
       "      <th>selfMade</th>\n",
       "      <th>gender</th>\n",
       "      <th>country=0</th>\n",
       "      <th>country=1</th>\n",
       "      <th>country=2</th>\n",
       "      <th>country=3</th>\n",
       "      <th>country=4</th>\n",
       "      <th>country=5</th>\n",
       "      <th>country=6</th>\n",
       "      <th>country=7</th>\n",
       "      <th>...</th>\n",
       "      <th>category=10</th>\n",
       "      <th>category=11</th>\n",
       "      <th>category=12</th>\n",
       "      <th>category=13</th>\n",
       "      <th>category=14</th>\n",
       "      <th>category=15</th>\n",
       "      <th>category=16</th>\n",
       "      <th>category=17</th>\n",
       "      <th>finalWorth</th>\n",
       "      <th>age</th>\n",
       "    </tr>\n",
       "  </thead>\n",
       "  <tbody>\n",
       "    <tr>\n",
       "      <th>0</th>\n",
       "      <td>True</td>\n",
       "      <td>1</td>\n",
       "      <td>0.0</td>\n",
       "      <td>0.0</td>\n",
       "      <td>0.0</td>\n",
       "      <td>0.0</td>\n",
       "      <td>0.0</td>\n",
       "      <td>0.0</td>\n",
       "      <td>0.0</td>\n",
       "      <td>0.0</td>\n",
       "      <td>...</td>\n",
       "      <td>0.0</td>\n",
       "      <td>0.0</td>\n",
       "      <td>0.0</td>\n",
       "      <td>0.0</td>\n",
       "      <td>0.0</td>\n",
       "      <td>0.0</td>\n",
       "      <td>0.0</td>\n",
       "      <td>0.0</td>\n",
       "      <td>1.000000</td>\n",
       "      <td>0.382716</td>\n",
       "    </tr>\n",
       "    <tr>\n",
       "      <th>1</th>\n",
       "      <td>True</td>\n",
       "      <td>1</td>\n",
       "      <td>0.0</td>\n",
       "      <td>0.0</td>\n",
       "      <td>0.0</td>\n",
       "      <td>0.0</td>\n",
       "      <td>0.0</td>\n",
       "      <td>0.0</td>\n",
       "      <td>0.0</td>\n",
       "      <td>0.0</td>\n",
       "      <td>...</td>\n",
       "      <td>0.0</td>\n",
       "      <td>0.0</td>\n",
       "      <td>0.0</td>\n",
       "      <td>0.0</td>\n",
       "      <td>0.0</td>\n",
       "      <td>0.0</td>\n",
       "      <td>1.0</td>\n",
       "      <td>0.0</td>\n",
       "      <td>0.779817</td>\n",
       "      <td>0.481481</td>\n",
       "    </tr>\n",
       "    <tr>\n",
       "      <th>2</th>\n",
       "      <td>False</td>\n",
       "      <td>1</td>\n",
       "      <td>0.0</td>\n",
       "      <td>0.0</td>\n",
       "      <td>0.0</td>\n",
       "      <td>0.0</td>\n",
       "      <td>0.0</td>\n",
       "      <td>0.0</td>\n",
       "      <td>0.0</td>\n",
       "      <td>0.0</td>\n",
       "      <td>...</td>\n",
       "      <td>0.0</td>\n",
       "      <td>0.0</td>\n",
       "      <td>0.0</td>\n",
       "      <td>0.0</td>\n",
       "      <td>0.0</td>\n",
       "      <td>0.0</td>\n",
       "      <td>0.0</td>\n",
       "      <td>0.0</td>\n",
       "      <td>0.720183</td>\n",
       "      <td>0.666667</td>\n",
       "    </tr>\n",
       "    <tr>\n",
       "      <th>3</th>\n",
       "      <td>True</td>\n",
       "      <td>1</td>\n",
       "      <td>0.0</td>\n",
       "      <td>0.0</td>\n",
       "      <td>0.0</td>\n",
       "      <td>0.0</td>\n",
       "      <td>0.0</td>\n",
       "      <td>0.0</td>\n",
       "      <td>0.0</td>\n",
       "      <td>0.0</td>\n",
       "      <td>...</td>\n",
       "      <td>0.0</td>\n",
       "      <td>0.0</td>\n",
       "      <td>0.0</td>\n",
       "      <td>0.0</td>\n",
       "      <td>0.0</td>\n",
       "      <td>0.0</td>\n",
       "      <td>1.0</td>\n",
       "      <td>0.0</td>\n",
       "      <td>0.587156</td>\n",
       "      <td>0.580247</td>\n",
       "    </tr>\n",
       "    <tr>\n",
       "      <th>4</th>\n",
       "      <td>True</td>\n",
       "      <td>1</td>\n",
       "      <td>0.0</td>\n",
       "      <td>0.0</td>\n",
       "      <td>0.0</td>\n",
       "      <td>0.0</td>\n",
       "      <td>0.0</td>\n",
       "      <td>0.0</td>\n",
       "      <td>0.0</td>\n",
       "      <td>0.0</td>\n",
       "      <td>...</td>\n",
       "      <td>0.0</td>\n",
       "      <td>0.0</td>\n",
       "      <td>0.0</td>\n",
       "      <td>0.0</td>\n",
       "      <td>0.0</td>\n",
       "      <td>0.0</td>\n",
       "      <td>0.0</td>\n",
       "      <td>0.0</td>\n",
       "      <td>0.536697</td>\n",
       "      <td>0.888889</td>\n",
       "    </tr>\n",
       "  </tbody>\n",
       "</table>\n",
       "<p>5 rows × 95 columns</p>\n",
       "</div>"
      ],
      "text/plain": [
       "   selfMade  gender  country=0  country=1  country=2  country=3  country=4  \\\n",
       "0      True       1        0.0        0.0        0.0        0.0        0.0   \n",
       "1      True       1        0.0        0.0        0.0        0.0        0.0   \n",
       "2     False       1        0.0        0.0        0.0        0.0        0.0   \n",
       "3      True       1        0.0        0.0        0.0        0.0        0.0   \n",
       "4      True       1        0.0        0.0        0.0        0.0        0.0   \n",
       "\n",
       "   country=5  country=6  country=7  ...  category=10  category=11  \\\n",
       "0        0.0        0.0        0.0  ...          0.0          0.0   \n",
       "1        0.0        0.0        0.0  ...          0.0          0.0   \n",
       "2        0.0        0.0        0.0  ...          0.0          0.0   \n",
       "3        0.0        0.0        0.0  ...          0.0          0.0   \n",
       "4        0.0        0.0        0.0  ...          0.0          0.0   \n",
       "\n",
       "   category=12  category=13  category=14  category=15  category=16  \\\n",
       "0          0.0          0.0          0.0          0.0          0.0   \n",
       "1          0.0          0.0          0.0          0.0          1.0   \n",
       "2          0.0          0.0          0.0          0.0          0.0   \n",
       "3          0.0          0.0          0.0          0.0          1.0   \n",
       "4          0.0          0.0          0.0          0.0          0.0   \n",
       "\n",
       "   category=17  finalWorth       age  \n",
       "0          0.0    1.000000  0.382716  \n",
       "1          0.0    0.779817  0.481481  \n",
       "2          0.0    0.720183  0.666667  \n",
       "3          0.0    0.587156  0.580247  \n",
       "4          0.0    0.536697  0.888889  \n",
       "\n",
       "[5 rows x 95 columns]"
      ]
     },
     "execution_count": 26,
     "metadata": {},
     "output_type": "execute_result"
    }
   ],
   "source": [
    "data.head()"
   ]
  },
  {
   "cell_type": "markdown",
   "id": "fdd6a690",
   "metadata": {},
   "source": [
    "Коррекция данных датасета закончена. "
   ]
  },
  {
   "cell_type": "markdown",
   "id": "d71c780f",
   "metadata": {},
   "source": [
    "## 5) Выбор наиболее подходящих моделей для решения задачи, выбор метрик для последующей оценки качества моделей."
   ]
  },
  {
   "cell_type": "markdown",
   "id": "69fc3a90",
   "metadata": {},
   "source": [
    "Для создания системы рекомендации собеседников по интересам необходимо решить задачу кластеризации списка людей, которые могут быть пользователями какого-либо приложения для общения, по их характеристикам. Рассмотрим 5 наиболее интересных методов кластеризации библиотеки sklearn: KMeans,  AgglomerativeClustering, Affinity Propagation, OPTICS, Birch.\n",
    "\n",
    "1) KMeans  - Алгоритм К-средних, был выбран как самый популярный и простой впонимании алгоритм кластеризации. Универсальный, любой размер кластеров, плоская геометрия, не слишком много кластеров. В качестве метрики используется дистанция между точками.\n",
    "\n",
    "2) AgglomerativeClustering -  Метод выбрат тк он использует метрику дистанция между точками и в нем возможно осуществить ограничение связей. При выполнении алгоритма создаются вложенные кластеры путем их последовательного слияния или разделения. Эта иерархия кластеров представлена в виде дерева (или дендрограммы). Корень дерева — это уникальный кластер, который собирает все образцы, а листья — это кластеры только с одним образцом.\n",
    "\n",
    "3) Affinity Propagation - этот метод выбран, поскольку он рассчитывает количество кластеров на основе предоставленных данных, что очень подходит под условие нашей задачи. Он создает кластеры, отправляя сообщения между парами образцов до схождения. Затем набор данных описывается с использованием небольшого количества образцов, которые определяются как наиболее репрезентативные для других образцов. Сообщения, отправляемые между парами, представляют пригодность одного образца быть образцом другого, который обновляется в ответ на значения из других пар. Это обновление происходит итеративно до сходимости, после чего выбираются окончательные образцы и, следовательно, дается окончательная кластеризация.\n",
    "\n",
    "4) DBSCAN - Метод выбран тк в нем может быть неравномерный размер кластеров. Метод рассматривает кластеры , как участки высокой плотности , разделенных районах с низкой плотностью. Из-за этого довольно общего представления кластеры, обнаруженные с помощью DBSCAN, могут иметь любую форму, в отличие от k-средних, которое предполагает, что кластеры имеют выпуклую форму.\n",
    "\n",
    "5) Birch - Критериями для выбора данного метода был большой объем данных, удаление выбросов, сокращение данных. Строит дерево, называемое деревом функций кластеризации (CFT). Данные по существу сжимаются с потерями до набора узлов Clustering Feature (CF Nodes). Узлы CF имеют ряд подкластеров, называемых подкластерами функций кластеризации (подкластеры CF), и эти подкластеры CF, расположенные в нетерминальных узлах CF, могут иметь узлы CF в качестве дочерних. Подкластеры CF содержат необходимую информацию для кластеризации, что избавляет от необходимости хранить все входные данные в памяти.\n",
    "\n",
    "Для последующей оценки качества моделей выбраны 3 метрики: Коэффициент силуэта, Индекс Калински-Харабаса, Индекс Дэвиса-Болдина. Выбор этих метрик обосновывается тем, что это в библиотеке sklearn существует только 3 метрики для оценки качества моделей клсастеризации, которые не требуют для выполнения алгоритма проверки известности истинных меток классов. В начем случае модель кластеризуется первично и истинных меток классов не имеет.\n",
    "\n",
    "1) Индекс Дэвиса-Болдина означает среднее «сходство» между кластерами, где сходство — это мера, которая сравнивает расстояние между кластерами с размером самих кластеров. Ноль — это наименьший возможный результат. Значения, близкие к нулю, указывают на лучшее разделение.\n",
    "\n",
    "2) Индекс Калински-Харабаса представляет собой отношение суммы дисперсии между кластерами и дисперсии внутри кластера для всех кластеров (где дисперсия определяется как сумма квадратов расстояний). Оценка выше, когда кластеры плотные и хорошо разделенные, что относится к стандартной концепции кластера.\n",
    "\n",
    "3) Коэффициент силуэта является примером такой оценки, где более высокий показатель коэффициента силуэта относится к модели с лучше определенными кластерами. Оценка ограничена от -1 за неправильную кластеризацию до +1 за высокоплотную кластеризацию. Баллы около нуля указывают на перекрывающиеся кластеры.\n",
    "\n",
    "\n",
    "Для оценки гиперпараметра количества кластеров в некоторых из выбранных методов кластеризации будем использовать \"правило локтя\".\n",
    "\n",
    "Полученные результаты будут проверены на качество кластеризации и визуализированы. Лучший метод кластеризации будет рекомендован к использованию."
   ]
  },
  {
   "cell_type": "markdown",
   "id": "0435eb90",
   "metadata": {},
   "source": [
    "## 6) Построение базовых решений для выбранных моделей, подбор гиперпараметров, оценка моделей выбранными способами"
   ]
  },
  {
   "cell_type": "markdown",
   "id": "f439519c",
   "metadata": {},
   "source": [
    "### Метод k-средних"
   ]
  },
  {
   "cell_type": "markdown",
   "id": "9d4c2ab4",
   "metadata": {},
   "source": [
    "Для работы с алгоритмами кластеризации преобразуем данные из датафрейма в список списков."
   ]
  },
  {
   "cell_type": "code",
   "execution_count": 55,
   "id": "1eecd6b0",
   "metadata": {},
   "outputs": [],
   "source": [
    "data_array=data.to_numpy()"
   ]
  },
  {
   "cell_type": "code",
   "execution_count": 56,
   "id": "ea20998c",
   "metadata": {},
   "outputs": [
    {
     "data": {
      "text/plain": [
       "array([[True, 1, 0.0, ..., 0.0, 0.9999999999999999, 0.38271604938271603],\n",
       "       [True, 1, 0.0, ..., 0.0, 0.7798165137614679, 0.48148148148148145],\n",
       "       [False, 1, 0.0, ..., 0.0, 0.7201834862385321, 0.6666666666666667],\n",
       "       ...,\n",
       "       [True, 1, 0.0, ..., 0.0, 0.0, 0.46913580246913583],\n",
       "       [True, 0, 0.0, ..., 0.0, 0.0, 0.2962962962962962],\n",
       "       [True, 1, 0.0, ..., 0.0, 0.0, 0.4938271604938271]], dtype=object)"
      ]
     },
     "execution_count": 56,
     "metadata": {},
     "output_type": "execute_result"
    }
   ],
   "source": [
    "data_array"
   ]
  },
  {
   "cell_type": "code",
   "execution_count": 57,
   "id": "fbab31d9",
   "metadata": {},
   "outputs": [
    {
     "data": {
      "text/plain": [
       "numpy.ndarray"
      ]
     },
     "execution_count": 57,
     "metadata": {},
     "output_type": "execute_result"
    }
   ],
   "source": [
    "type(data_array)"
   ]
  },
  {
   "cell_type": "markdown",
   "id": "ae5721c9",
   "metadata": {},
   "source": [
    "В качестве балового решения попробуем использовать разбиение на 3 кластера."
   ]
  },
  {
   "cell_type": "code",
   "execution_count": 58,
   "id": "11f9cbc4",
   "metadata": {},
   "outputs": [
    {
     "name": "stdout",
     "output_type": "stream",
     "text": [
      "Wall time: 150 ms\n"
     ]
    }
   ],
   "source": [
    "cluster_results = []\n",
    "%time temp_cluster = KMeans(n_clusters=3).fit_predict(data_array)\n",
    "cluster_results.append(temp_cluster)\n",
    "result_KMeans_3  = cluster_results"
   ]
  },
  {
   "cell_type": "code",
   "execution_count": 59,
   "id": "ac08702f",
   "metadata": {},
   "outputs": [
    {
     "data": {
      "text/plain": [
       "[array([0, 0, 2, ..., 1, 1, 1])]"
      ]
     },
     "execution_count": 59,
     "metadata": {},
     "output_type": "execute_result"
    }
   ],
   "source": [
    "result_KMeans_3"
   ]
  },
  {
   "cell_type": "markdown",
   "id": "b57582ad",
   "metadata": {},
   "source": [
    "Проверим  работу метода, выведем уникальные значения полученного листа и построим график отображающий распределение личночтей по кластерам."
   ]
  },
  {
   "cell_type": "code",
   "execution_count": 60,
   "id": "0b2dfb27",
   "metadata": {},
   "outputs": [
    {
     "data": {
      "text/plain": [
       "array([0, 1, 2])"
      ]
     },
     "execution_count": 60,
     "metadata": {},
     "output_type": "execute_result"
    }
   ],
   "source": [
    "uni = np.unique(result_KMeans_3)\n",
    "uni"
   ]
  },
  {
   "cell_type": "markdown",
   "id": "ff99f33d",
   "metadata": {},
   "source": [
    "Видим, что алгоритм создал всего 3 кластера"
   ]
  },
  {
   "cell_type": "code",
   "execution_count": 61,
   "id": "2bb2a35b",
   "metadata": {
    "scrolled": true
   },
   "outputs": [
    {
     "data": {
      "text/plain": [
       "<AxesSubplot:>"
      ]
     },
     "execution_count": 61,
     "metadata": {},
     "output_type": "execute_result"
    },
    {
     "data": {
      "image/png": "[encoded data removed]",
      "text/plain": [
       "<Figure size 432x288 with 1 Axes>"
      ]
     },
     "metadata": {},
     "output_type": "display_data"
    }
   ],
   "source": [
    "sns.scatterplot(data=result_KMeans_3)"
   ]
  },
  {
   "cell_type": "markdown",
   "id": "91695ae9",
   "metadata": {},
   "source": [
    "Мы видим, что все множество пользователей равномерно распределенопо 0, 1 и 2 кластерам. С точки зрения поиска собеседников по интересам данный результат, как минимум выглядит не точно. Недостаточно кластеров для оценки интересов. Поэтому мы воспользуемся методом оценки гиперпараметра - количества кластеров для разбиения. "
   ]
  },
  {
   "cell_type": "code",
   "execution_count": 62,
   "id": "a1a6eba9",
   "metadata": {},
   "outputs": [
    {
     "data": {
      "image/png": "[encoded data removed]",
      "text/plain": [
       "<Figure size 432x288 with 1 Axes>"
      ]
     },
     "metadata": {},
     "output_type": "display_data"
    }
   ],
   "source": [
    "inertia = []\n",
    "for k in range(1, 30):\n",
    "    kmeans = KMeans(n_clusters=k, random_state=1).fit(data_array)\n",
    "    inertia.append(np.sqrt(kmeans.inertia_))\n",
    "plt.plot(range(1, 30), inertia, marker='s');\n",
    "plt.xlabel('$k$')\n",
    "plt.ylabel('$J(C_k)$');"
   ]
  },
  {
   "cell_type": "markdown",
   "id": "1cc27ae0",
   "metadata": {},
   "source": [
    "Примем точкой резкого уменьшения инерции k=4"
   ]
  },
  {
   "cell_type": "markdown",
   "id": "38ea91b4",
   "metadata": {},
   "source": [
    "Попробуем разбить данные на 4 кластеров"
   ]
  },
  {
   "cell_type": "code",
   "execution_count": 63,
   "id": "3bfea0bf",
   "metadata": {},
   "outputs": [
    {
     "name": "stdout",
     "output_type": "stream",
     "text": [
      "Wall time: 168 ms\n"
     ]
    }
   ],
   "source": [
    "cluster_results = []\n",
    "%time temp_cluster = KMeans(n_clusters=4).fit_predict(data_array)\n",
    "cluster_results.append(temp_cluster)\n",
    "result_KMeans_4  = cluster_results"
   ]
  },
  {
   "cell_type": "code",
   "execution_count": 64,
   "id": "60faa3d9",
   "metadata": {},
   "outputs": [
    {
     "data": {
      "text/plain": [
       "[array([1, 1, 2, ..., 0, 0, 0])]"
      ]
     },
     "execution_count": 64,
     "metadata": {},
     "output_type": "execute_result"
    }
   ],
   "source": [
    "result_KMeans_4"
   ]
  },
  {
   "cell_type": "code",
   "execution_count": 65,
   "id": "9b72449b",
   "metadata": {},
   "outputs": [
    {
     "data": {
      "text/plain": [
       "array([0, 1, 2, 3])"
      ]
     },
     "execution_count": 65,
     "metadata": {},
     "output_type": "execute_result"
    }
   ],
   "source": [
    "np.unique(result_KMeans_4)"
   ]
  },
  {
   "cell_type": "code",
   "execution_count": 66,
   "id": "6d4bc266",
   "metadata": {},
   "outputs": [
    {
     "data": {
      "text/plain": [
       "<AxesSubplot:>"
      ]
     },
     "execution_count": 66,
     "metadata": {},
     "output_type": "execute_result"
    },
    {
     "data": {
      "image/png": "[encoded data removed]",
      "text/plain": [
       "<Figure size 432x288 with 1 Axes>"
      ]
     },
     "metadata": {},
     "output_type": "display_data"
    }
   ],
   "source": [
    "sns.scatterplot(data=result_KMeans_4)"
   ]
  },
  {
   "cell_type": "markdown",
   "id": "b7480007",
   "metadata": {},
   "source": [
    "Теперь оценим поcтроенную модель"
   ]
  },
  {
   "cell_type": "code",
   "execution_count": 67,
   "id": "99298b27",
   "metadata": {},
   "outputs": [
    {
     "name": "stdout",
     "output_type": "stream",
     "text": [
      "For 4 clusters, silhouette score is 0.16270998062517955)\n"
     ]
    }
   ],
   "source": [
    "preds = KMeans(n_clusters=4).fit_predict(data_array)\n",
    "score = silhouette_score(data_array, preds)\n",
    "print(\"For 4 clusters, silhouette score is {})\".format(score))"
   ]
  },
  {
   "cell_type": "code",
   "execution_count": 68,
   "id": "b9628bc6",
   "metadata": {},
   "outputs": [
    {
     "name": "stdout",
     "output_type": "stream",
     "text": [
      "Calinski_harabasz score is 328.4851223383645)\n"
     ]
    }
   ],
   "source": [
    "score = calinski_harabasz_score(data_array, preds)\n",
    "print(\"Calinski_harabasz score is {})\".format(score))"
   ]
  },
  {
   "cell_type": "code",
   "execution_count": 69,
   "id": "11c06548",
   "metadata": {},
   "outputs": [
    {
     "data": {
      "text/plain": [
       "2.0873511826740603"
      ]
     },
     "execution_count": 69,
     "metadata": {},
     "output_type": "execute_result"
    }
   ],
   "source": [
    "kmeans = KMeans(n_clusters=14, random_state=1).fit(data_array)\n",
    "labels = kmeans.labels_\n",
    "davies_bouldin_score(data_array, labels)"
   ]
  },
  {
   "cell_type": "markdown",
   "id": "5914468b",
   "metadata": {},
   "source": [
    "Все метрики имеют низкие показатели оценки. Данная модель имеет плохое качество."
   ]
  },
  {
   "cell_type": "markdown",
   "id": "d95bf0d3",
   "metadata": {},
   "source": [
    "### Иерархическая кластеризация (AgglomerativeClustering)"
   ]
  },
  {
   "cell_type": "code",
   "execution_count": 70,
   "id": "36adda2e",
   "metadata": {},
   "outputs": [
    {
     "name": "stdout",
     "output_type": "stream",
     "text": [
      "Wall time: 596 ms\n"
     ]
    }
   ],
   "source": [
    "%time result_AgglomerativeClustering = AgglomerativeClustering(n_clusters=3).fit(data_array)"
   ]
  },
  {
   "cell_type": "code",
   "execution_count": 71,
   "id": "01abb28d",
   "metadata": {},
   "outputs": [
    {
     "data": {
      "text/plain": [
       "array([0, 2, 0, ..., 0, 0, 0], dtype=int64)"
      ]
     },
     "execution_count": 71,
     "metadata": {},
     "output_type": "execute_result"
    }
   ],
   "source": [
    "result_AgglomerativeClustering.labels_"
   ]
  },
  {
   "cell_type": "code",
   "execution_count": 72,
   "id": "1cfdd357",
   "metadata": {},
   "outputs": [
    {
     "data": {
      "text/plain": [
       "array([0, 1, 2], dtype=int64)"
      ]
     },
     "execution_count": 72,
     "metadata": {},
     "output_type": "execute_result"
    }
   ],
   "source": [
    "np.unique(result_AgglomerativeClustering.labels_)"
   ]
  },
  {
   "cell_type": "code",
   "execution_count": 73,
   "id": "9375f267",
   "metadata": {
    "scrolled": true
   },
   "outputs": [
    {
     "data": {
      "text/plain": [
       "<AxesSubplot:>"
      ]
     },
     "execution_count": 73,
     "metadata": {},
     "output_type": "execute_result"
    },
    {
     "data": {
      "image/png": "[encoded data removed]",
      "text/plain": [
       "<Figure size 432x288 with 1 Axes>"
      ]
     },
     "metadata": {},
     "output_type": "display_data"
    }
   ],
   "source": [
    "sns.scatterplot(data=result_AgglomerativeClustering.labels_)"
   ]
  },
  {
   "cell_type": "markdown",
   "id": "26db73a9",
   "metadata": {},
   "source": [
    "Мы видим, опять же, что 3 кластеров явно не достаточно для корректного разбиения, поэтому перейдем к подбору гиперпараметра."
   ]
  },
  {
   "cell_type": "code",
   "execution_count": 74,
   "id": "6bba232a",
   "metadata": {
    "scrolled": true
   },
   "outputs": [],
   "source": [
    "i = list(range(2, 200))\n",
    "silhouette_scores = []\n",
    "for k in range(2, 200):\n",
    "    silhouette_scores.append(silhouette_score(data_array, AgglomerativeClustering(n_clusters=k).fit_predict(data_array)))"
   ]
  },
  {
   "cell_type": "code",
   "execution_count": 75,
   "id": "941b510e",
   "metadata": {},
   "outputs": [
    {
     "data": {
      "image/png": "[encoded data removed]",
      "text/plain": [
       "<Figure size 432x288 with 1 Axes>"
      ]
     },
     "metadata": {},
     "output_type": "display_data"
    }
   ],
   "source": [
    "fig, ax = plt.subplots()\n",
    "ax.axis([0,200,0,1])\n",
    "ax.bar(i, silhouette_scores)\n",
    "ax.set_facecolor('seashell')\n",
    "fig.set_facecolor('floralwhite')\n",
    "\n",
    "plt.show()"
   ]
  },
  {
   "cell_type": "code",
   "execution_count": 76,
   "id": "0c715b3d",
   "metadata": {},
   "outputs": [
    {
     "data": {
      "text/plain": [
       "[0.06496917194554404,\n",
       " 0.08864468789375624,\n",
       " 0.12056533946432697,\n",
       " 0.14007065356520623,\n",
       " 0.16270781426546882,\n",
       " 0.18271565084209732,\n",
       " 0.1961738863623816,\n",
       " 0.21138755739382098,\n",
       " 0.19149225554741578,\n",
       " 0.17388480695482447,\n",
       " 0.19188624824870223,\n",
       " 0.20339517474089092,\n",
       " 0.21207682695926855,\n",
       " 0.2205913563980438,\n",
       " 0.22597804863199686,\n",
       " 0.23227122421852944,\n",
       " 0.2414848911010768,\n",
       " 0.248957197797149,\n",
       " 0.25441386788356773,\n",
       " 0.26867503513259816,\n",
       " 0.2684519557079025,\n",
       " 0.272329647567775,\n",
       " 0.27631084636711123,\n",
       " 0.28032702810515175,\n",
       " 0.28412743663424816,\n",
       " 0.28945193198309954,\n",
       " 0.29560301753497276,\n",
       " 0.3009975793566459,\n",
       " 0.3085551996765731,\n",
       " 0.3118652014722474,\n",
       " 0.3075546816240221,\n",
       " 0.3092713534770123,\n",
       " 0.3120673869744308,\n",
       " 0.314337452898232,\n",
       " 0.3192169449291871,\n",
       " 0.31658124775336116,\n",
       " 0.32111366471794506,\n",
       " 0.32499109421383426,\n",
       " 0.3271913379800343,\n",
       " 0.33078132540684885,\n",
       " 0.3355175751985092,\n",
       " 0.33813346504731406,\n",
       " 0.3426461049655769,\n",
       " 0.3460225101086838,\n",
       " 0.3483678703229542,\n",
       " 0.3498703271361862,\n",
       " 0.35223765218979847,\n",
       " 0.35567109486790666,\n",
       " 0.35856066204147,\n",
       " 0.3615566581008421,\n",
       " 0.3638144173363178,\n",
       " 0.36517588446116683,\n",
       " 0.3673592385569626,\n",
       " 0.36741719142562235,\n",
       " 0.37061662956691616,\n",
       " 0.3741787888185398,\n",
       " 0.3763631453512357,\n",
       " 0.3792052591006617,\n",
       " 0.3810114877497775,\n",
       " 0.38352157078356575,\n",
       " 0.38493948307895204,\n",
       " 0.38836910311137907,\n",
       " 0.39103023818695776,\n",
       " 0.39323807079353434,\n",
       " 0.39496673117507936,\n",
       " 0.3975920366292502,\n",
       " 0.40047753445877443,\n",
       " 0.40374003268626585,\n",
       " 0.4057520140412154,\n",
       " 0.4072039217878401,\n",
       " 0.4085639041267406,\n",
       " 0.412153948951394,\n",
       " 0.41457434470823085,\n",
       " 0.4172396457708657,\n",
       " 0.420407510557224,\n",
       " 0.4220136814889568,\n",
       " 0.42385652395568085,\n",
       " 0.4258516052869689,\n",
       " 0.42686761874882134,\n",
       " 0.4292381782609381,\n",
       " 0.43098695677745796,\n",
       " 0.433201803318396,\n",
       " 0.4340379499841718,\n",
       " 0.4348215463483103,\n",
       " 0.4366698831730181,\n",
       " 0.43852019692263694,\n",
       " 0.4405236822598177,\n",
       " 0.4423233917381479,\n",
       " 0.4449432029886157,\n",
       " 0.4472446392950947,\n",
       " 0.44914789549267226,\n",
       " 0.4511766310495002,\n",
       " 0.45359438897406135,\n",
       " 0.45556311711354786,\n",
       " 0.4581724111510687,\n",
       " 0.460002510105165,\n",
       " 0.4609452614884289,\n",
       " 0.46310049457611313,\n",
       " 0.46492764965503625,\n",
       " 0.46555396593561943,\n",
       " 0.46713070140600144,\n",
       " 0.46864242409749224,\n",
       " 0.4705292258094156,\n",
       " 0.4719954110199119,\n",
       " 0.4743774418557396,\n",
       " 0.4763250649749885,\n",
       " 0.4784254046546716,\n",
       " 0.4805285734993101,\n",
       " 0.4815000084878865,\n",
       " 0.4834355703838862,\n",
       " 0.4858950419723067,\n",
       " 0.48759587077662875,\n",
       " 0.4888046212277517,\n",
       " 0.49057515142826763,\n",
       " 0.492436810684625,\n",
       " 0.4940044157854005,\n",
       " 0.49587926362516194,\n",
       " 0.49788402003091053,\n",
       " 0.4994001920834916,\n",
       " 0.5005618071063006,\n",
       " 0.5020060006861325,\n",
       " 0.5033959498155026,\n",
       " 0.5047944188468803,\n",
       " 0.5056346993918024,\n",
       " 0.5075453714013786,\n",
       " 0.5088722806616393,\n",
       " 0.5103309424357311,\n",
       " 0.5120261835139468,\n",
       " 0.5137308117498214,\n",
       " 0.5157167188014233,\n",
       " 0.5170252996235595,\n",
       " 0.5183288735845099,\n",
       " 0.5196618225434991,\n",
       " 0.5212628912925947,\n",
       " 0.5219332677455842,\n",
       " 0.5231513608437023,\n",
       " 0.5244916086093933,\n",
       " 0.5253015368428766,\n",
       " 0.5261894804177709,\n",
       " 0.5271729157959467,\n",
       " 0.5283372101650727,\n",
       " 0.5299600037253758,\n",
       " 0.530859987201048,\n",
       " 0.5318303357491263,\n",
       " 0.5327704529463684,\n",
       " 0.5339845442302508,\n",
       " 0.5349143884259083,\n",
       " 0.5353708065785945,\n",
       " 0.5359634103918592,\n",
       " 0.5373118327816238,\n",
       " 0.5379608240938016,\n",
       " 0.5389914944277293,\n",
       " 0.540049673082508,\n",
       " 0.540918973460498,\n",
       " 0.5421552915174264,\n",
       " 0.5437042640317788,\n",
       " 0.5450148722514845,\n",
       " 0.5466676369100418,\n",
       " 0.5476156993949228,\n",
       " 0.54870002227995,\n",
       " 0.5499798163553697,\n",
       " 0.5512528700725223,\n",
       " 0.5525139719392241,\n",
       " 0.5534870036239669,\n",
       " 0.5549373890303844,\n",
       " 0.556017679855138,\n",
       " 0.557146335502126,\n",
       " 0.5583829059631028,\n",
       " 0.5588954800911705,\n",
       " 0.5603556942012761,\n",
       " 0.5616206387443459,\n",
       " 0.5629038920061057,\n",
       " 0.5637359624120313,\n",
       " 0.5644014827945645,\n",
       " 0.5656299651657783,\n",
       " 0.5665821687864954,\n",
       " 0.5674256868300384,\n",
       " 0.5682222382200102,\n",
       " 0.5690675908708778,\n",
       " 0.5697101878396079,\n",
       " 0.5704140944643217,\n",
       " 0.5712410910886937,\n",
       " 0.571930332982373,\n",
       " 0.5726038674943651,\n",
       " 0.5732229403468591,\n",
       " 0.5736738678049361,\n",
       " 0.5747019667152392,\n",
       " 0.5756803317452623,\n",
       " 0.5767897153889116,\n",
       " 0.5780360405330672,\n",
       " 0.579018263837059,\n",
       " 0.579949972222901,\n",
       " 0.5808524566095272,\n",
       " 0.5821122751213739,\n",
       " 0.582895080986634,\n",
       " 0.583893281017776,\n",
       " 0.5851500814442611,\n",
       " 0.5856752016929717]"
      ]
     },
     "execution_count": 76,
     "metadata": {},
     "output_type": "execute_result"
    }
   ],
   "source": [
    "silhouette_scores"
   ]
  },
  {
   "cell_type": "markdown",
   "id": "79d604cb",
   "metadata": {},
   "source": [
    "В данном случае рост коэф. силуэта наблюдается при увеличении количества кластеров. Для рекомендательной системы собеседников удобно чтобы в одном кластеренаходилось мимнимум 10 человек, поэтому макс. возможное значение k = 200. Следовательно, перестроим модель для этого значения гиперпараметра."
   ]
  },
  {
   "cell_type": "code",
   "execution_count": 85,
   "id": "33942600",
   "metadata": {
    "scrolled": true
   },
   "outputs": [
    {
     "name": "stdout",
     "output_type": "stream",
     "text": [
      "Wall time: 610 ms\n"
     ]
    }
   ],
   "source": [
    "%time result_AgglomerativeClustering200 = AgglomerativeClustering(n_clusters=200).fit(data_array)"
   ]
  },
  {
   "cell_type": "code",
   "execution_count": 86,
   "id": "bce8f39e",
   "metadata": {},
   "outputs": [
    {
     "data": {
      "text/plain": [
       "array([ 58,  52, 143, ...,  83,  13,  83], dtype=int64)"
      ]
     },
     "execution_count": 86,
     "metadata": {},
     "output_type": "execute_result"
    }
   ],
   "source": [
    "result_AgglomerativeClustering200.labels_"
   ]
  },
  {
   "cell_type": "code",
   "execution_count": 87,
   "id": "00b08328",
   "metadata": {},
   "outputs": [
    {
     "data": {
      "text/plain": [
       "<AxesSubplot:>"
      ]
     },
     "execution_count": 87,
     "metadata": {},
     "output_type": "execute_result"
    },
    {
     "data": {
      "image/png": "[encoded data removed]",
      "text/plain": [
       "<Figure size 432x288 with 1 Axes>"
      ]
     },
     "metadata": {},
     "output_type": "display_data"
    }
   ],
   "source": [
    "sns.scatterplot(data=result_AgglomerativeClustering200.labels_)"
   ]
  },
  {
   "cell_type": "markdown",
   "id": "aa084c7e",
   "metadata": {},
   "source": [
    "Теперь оценим построенную модель"
   ]
  },
  {
   "cell_type": "code",
   "execution_count": 88,
   "id": "0be82095",
   "metadata": {},
   "outputs": [
    {
     "name": "stdout",
     "output_type": "stream",
     "text": [
      "For 14 clusters, silhouette score is 0.5865787674901431)\n"
     ]
    }
   ],
   "source": [
    "preds = AgglomerativeClustering(n_clusters=200).fit_predict(data_array)\n",
    "score = silhouette_score(data_array, preds)\n",
    "print(\"For 14 clusters, silhouette score is {})\".format(score))"
   ]
  },
  {
   "cell_type": "code",
   "execution_count": 89,
   "id": "ae7780d7",
   "metadata": {},
   "outputs": [
    {
     "name": "stdout",
     "output_type": "stream",
     "text": [
      "Calinski_harabasz score is 76.34544726476048)\n"
     ]
    }
   ],
   "source": [
    "score = calinski_harabasz_score(data_array, preds)\n",
    "print(\"Calinski_harabasz score is {})\".format(score))"
   ]
  },
  {
   "cell_type": "code",
   "execution_count": 90,
   "id": "62022c24",
   "metadata": {},
   "outputs": [
    {
     "name": "stdout",
     "output_type": "stream",
     "text": [
      "Davies_bouldin score is 1.3144772596687933)\n"
     ]
    }
   ],
   "source": [
    "score = davies_bouldin_score(data_array, preds)\n",
    "print(\"Davies_bouldin score is {})\".format(score))"
   ]
  },
  {
   "cell_type": "markdown",
   "id": "166e6fc3",
   "metadata": {},
   "source": [
    "В данном методе показатель 1 метрики имеет хорошее значение, показатели 2 и 3 метрик имеют средние значения."
   ]
  },
  {
   "cell_type": "markdown",
   "id": "d264243a",
   "metadata": {},
   "source": [
    "###  Affinity Propagation"
   ]
  },
  {
   "cell_type": "code",
   "execution_count": 91,
   "id": "b41af331",
   "metadata": {},
   "outputs": [
    {
     "name": "stdout",
     "output_type": "stream",
     "text": [
      "Wall time: 34.7 s\n"
     ]
    }
   ],
   "source": [
    "%time result_AffinityPropagation = AffinityPropagation(random_state=0, max_iter=500, damping = 0.9).fit(data_array)"
   ]
  },
  {
   "cell_type": "code",
   "execution_count": 92,
   "id": "95d9e3e6",
   "metadata": {},
   "outputs": [
    {
     "data": {
      "text/plain": [
       "array([[True, 1, 0.0, ..., 0.0, 0.9999999999999999, 0.38271604938271603],\n",
       "       [True, 1, 0.0, ..., 0.0, 0.7798165137614679, 0.48148148148148145],\n",
       "       [False, 1, 0.0, ..., 0.0, 0.7201834862385321, 0.6666666666666667],\n",
       "       ...,\n",
       "       [True, 1, 0.0, ..., 0.0, 0.0, 0.46913580246913583],\n",
       "       [True, 0, 0.0, ..., 0.0, 0.0, 0.2962962962962962],\n",
       "       [True, 1, 0.0, ..., 0.0, 0.0, 0.4938271604938271]], dtype=object)"
      ]
     },
     "execution_count": 92,
     "metadata": {},
     "output_type": "execute_result"
    }
   ],
   "source": [
    "data_array"
   ]
  },
  {
   "cell_type": "code",
   "execution_count": 93,
   "id": "360bc6af",
   "metadata": {},
   "outputs": [
    {
     "data": {
      "text/plain": [
       "array([ 15,   7,  65, ..., 122,  98, 122], dtype=int64)"
      ]
     },
     "execution_count": 93,
     "metadata": {},
     "output_type": "execute_result"
    }
   ],
   "source": [
    "result_AffinityPropagation.labels_"
   ]
  },
  {
   "cell_type": "code",
   "execution_count": 94,
   "id": "be033311",
   "metadata": {},
   "outputs": [
    {
     "data": {
      "text/plain": [
       "array([  0,   1,   2,   3,   4,   5,   6,   7,   8,   9,  10,  11,  12,\n",
       "        13,  14,  15,  16,  17,  18,  19,  20,  21,  22,  23,  24,  25,\n",
       "        26,  27,  28,  29,  30,  31,  32,  33,  34,  35,  36,  37,  38,\n",
       "        39,  40,  41,  42,  43,  44,  45,  46,  47,  48,  49,  50,  51,\n",
       "        52,  53,  54,  55,  56,  57,  58,  59,  60,  61,  62,  63,  64,\n",
       "        65,  66,  67,  68,  69,  70,  71,  72,  73,  74,  75,  76,  77,\n",
       "        78,  79,  80,  81,  82,  83,  84,  85,  86,  87,  88,  89,  90,\n",
       "        91,  92,  93,  94,  95,  96,  97,  98,  99, 100, 101, 102, 103,\n",
       "       104, 105, 106, 107, 108, 109, 110, 111, 112, 113, 114, 115, 116,\n",
       "       117, 118, 119, 120, 121, 122, 123, 124, 125, 126, 127, 128, 129,\n",
       "       130, 131, 132, 133, 134, 135, 136, 137, 138, 139, 140, 141, 142,\n",
       "       143, 144, 145, 146, 147, 148, 149, 150, 151, 152, 153, 154, 155,\n",
       "       156, 157, 158, 159, 160, 161, 162, 163, 164, 165, 166, 167, 168,\n",
       "       169, 170, 171, 172, 173, 174, 175, 176, 177, 178, 179, 180, 181,\n",
       "       182, 183, 184, 185, 186, 187, 188, 189, 190, 191, 192, 193, 194,\n",
       "       195, 196, 197, 198, 199, 200, 201, 202, 203, 204, 205, 206, 207,\n",
       "       208, 209, 210, 211, 212, 213, 214, 215, 216, 217, 218, 219],\n",
       "      dtype=int64)"
      ]
     },
     "execution_count": 94,
     "metadata": {},
     "output_type": "execute_result"
    }
   ],
   "source": [
    "np.unique(result_AffinityPropagation.labels_)"
   ]
  },
  {
   "cell_type": "code",
   "execution_count": 95,
   "id": "d2256c7c",
   "metadata": {},
   "outputs": [
    {
     "data": {
      "text/plain": [
       "<AxesSubplot:>"
      ]
     },
     "execution_count": 95,
     "metadata": {},
     "output_type": "execute_result"
    },
    {
     "data": {
      "image/png": "[encoded data removed]",
      "text/plain": [
       "<Figure size 432x288 with 1 Axes>"
      ]
     },
     "metadata": {},
     "output_type": "display_data"
    }
   ],
   "source": [
    "sns.scatterplot(data=result_AffinityPropagation.labels_)"
   ]
  },
  {
   "cell_type": "markdown",
   "id": "8b13371b",
   "metadata": {},
   "source": [
    "Для наших данных метод AffinityPropagation рассчитал оптимальным создать 220 кластеров. На графике видны более плотные области для некоторых кластеров."
   ]
  },
  {
   "cell_type": "markdown",
   "id": "522da338",
   "metadata": {},
   "source": [
    "Оценим полученный результат"
   ]
  },
  {
   "cell_type": "code",
   "execution_count": 96,
   "id": "62d3941e",
   "metadata": {},
   "outputs": [
    {
     "name": "stdout",
     "output_type": "stream",
     "text": [
      "Silhouette score is 0.5605702711916941)\n"
     ]
    }
   ],
   "source": [
    "preds = AffinityPropagation(random_state=0, max_iter=500, damping = 0.9).fit_predict(data_array)\n",
    "score = silhouette_score(data_array, preds)\n",
    "print(\"Silhouette score is {})\".format(score))"
   ]
  },
  {
   "cell_type": "code",
   "execution_count": 97,
   "id": "d11faf50",
   "metadata": {},
   "outputs": [
    {
     "name": "stdout",
     "output_type": "stream",
     "text": [
      "Calinski_harabasz score is 64.34840886382715)\n"
     ]
    }
   ],
   "source": [
    "score = calinski_harabasz_score(data_array, result_AffinityPropagation.labels_)\n",
    "print(\"Calinski_harabasz score is {})\".format(score))"
   ]
  },
  {
   "cell_type": "code",
   "execution_count": 98,
   "id": "15573372",
   "metadata": {},
   "outputs": [
    {
     "name": "stdout",
     "output_type": "stream",
     "text": [
      "Davies_bouldin score is 1.217626779852927)\n"
     ]
    }
   ],
   "source": [
    "score = davies_bouldin_score(data_array, result_AffinityPropagation.labels_)\n",
    "print(\"Davies_bouldin score is {})\".format(score))"
   ]
  },
  {
   "cell_type": "markdown",
   "id": "e795d7b0",
   "metadata": {},
   "source": [
    "В данном методе показатель 1 метрики имеет хорошее значение, показатели 2 и 3 метрик имеют средние значения."
   ]
  },
  {
   "cell_type": "markdown",
   "id": "f5d7aea1",
   "metadata": {},
   "source": [
    "### Birch"
   ]
  },
  {
   "cell_type": "code",
   "execution_count": 114,
   "id": "bbd9816f",
   "metadata": {},
   "outputs": [
    {
     "name": "stdout",
     "output_type": "stream",
     "text": [
      "Wall time: 302 ms\n"
     ]
    }
   ],
   "source": [
    "%time result_Birch = Birch(n_clusters=3).fit(data_array)"
   ]
  },
  {
   "cell_type": "code",
   "execution_count": 115,
   "id": "35ee74d9",
   "metadata": {},
   "outputs": [
    {
     "data": {
      "text/plain": [
       "array([0, 2, 0, ..., 0, 2, 0], dtype=int64)"
      ]
     },
     "execution_count": 115,
     "metadata": {},
     "output_type": "execute_result"
    }
   ],
   "source": [
    "result_Birch.labels_"
   ]
  },
  {
   "cell_type": "code",
   "execution_count": 116,
   "id": "29717695",
   "metadata": {},
   "outputs": [
    {
     "data": {
      "text/plain": [
       "array([0, 1, 2], dtype=int64)"
      ]
     },
     "execution_count": 116,
     "metadata": {},
     "output_type": "execute_result"
    }
   ],
   "source": [
    "np.unique(result_Birch.labels_)"
   ]
  },
  {
   "cell_type": "code",
   "execution_count": 117,
   "id": "5100e785",
   "metadata": {},
   "outputs": [
    {
     "data": {
      "text/plain": [
       "<AxesSubplot:>"
      ]
     },
     "execution_count": 117,
     "metadata": {},
     "output_type": "execute_result"
    },
    {
     "data": {
      "image/png": "[encoded data removed]",
      "text/plain": [
       "<Figure size 432x288 with 1 Axes>"
      ]
     },
     "metadata": {},
     "output_type": "display_data"
    }
   ],
   "source": [
    "sns.scatterplot(data=result_Birch.labels_)"
   ]
  },
  {
   "cell_type": "markdown",
   "id": "226c6acb",
   "metadata": {},
   "source": [
    "Данный гафик поход на график результата кластеризации модели, обученной по методу AgglomerativeClustering при  таком же значении гиперпараметра. Подберем лучшее значение гиперпараметра. Через коэффициент силуэта."
   ]
  },
  {
   "cell_type": "code",
   "execution_count": 120,
   "id": "8a524400",
   "metadata": {},
   "outputs": [
    {
     "data": {
      "image/png": "[encoded data removed]",
      "text/plain": [
       "<Figure size 432x288 with 1 Axes>"
      ]
     },
     "metadata": {},
     "output_type": "display_data"
    }
   ],
   "source": [
    "i = list(range(2, 200))\n",
    "silhouette_scores = []\n",
    "for k in range(2, 200):\n",
    "    silhouette_scores.append(silhouette_score(data_array, Birch(n_clusters=k).fit_predict(data_array)))\n",
    "\n",
    "fig, ax = plt.subplots()\n",
    "ax.axis([0,200,0,1])\n",
    "ax.bar(i, silhouette_scores)\n",
    "ax.set_facecolor('seashell')\n",
    "fig.set_facecolor('floralwhite')\n",
    "\n",
    "plt.show()"
   ]
  },
  {
   "cell_type": "markdown",
   "id": "79f2d007",
   "metadata": {},
   "source": [
    "В данном случае рост коэф. силуэта наблюдается при увеличении количества кластеров. Для рекомендательной системы собеседников удобно чтобы в одном кластеренаходилось мимнимум 10 человек, поэтому макс. возможное значение k = 200. Следовательно, перестроим модель для этого значения гиперпараметра."
   ]
  },
  {
   "cell_type": "code",
   "execution_count": 139,
   "id": "c0308eb3",
   "metadata": {},
   "outputs": [
    {
     "name": "stdout",
     "output_type": "stream",
     "text": [
      "Wall time: 306 ms\n"
     ]
    }
   ],
   "source": [
    "%time result_Birch = Birch(n_clusters=200).fit(data_array)"
   ]
  },
  {
   "cell_type": "code",
   "execution_count": 140,
   "id": "48e32261",
   "metadata": {},
   "outputs": [
    {
     "data": {
      "text/plain": [
       "array([128,  51,  90, ..., 151, 143, 151], dtype=int64)"
      ]
     },
     "execution_count": 140,
     "metadata": {},
     "output_type": "execute_result"
    }
   ],
   "source": [
    "result_Birch.labels_"
   ]
  },
  {
   "cell_type": "code",
   "execution_count": 141,
   "id": "51fea6c7",
   "metadata": {},
   "outputs": [
    {
     "data": {
      "text/plain": [
       "<AxesSubplot:>"
      ]
     },
     "execution_count": 141,
     "metadata": {},
     "output_type": "execute_result"
    },
    {
     "data": {
      "image/png": "[encoded data removed]",
      "text/plain": [
       "<Figure size 432x288 with 1 Axes>"
      ]
     },
     "metadata": {},
     "output_type": "display_data"
    }
   ],
   "source": [
    "sns.scatterplot(data=result_Birch.labels_)"
   ]
  },
  {
   "cell_type": "markdown",
   "id": "2f8086c4",
   "metadata": {},
   "source": [
    "Данный гафик поход на график результата кластеризации модели, обученной по методу AgglomerativeClustering при таком же значении гиперпараметра. Оценим модель с помощью метрик."
   ]
  },
  {
   "cell_type": "code",
   "execution_count": 142,
   "id": "79375414",
   "metadata": {},
   "outputs": [
    {
     "name": "stdout",
     "output_type": "stream",
     "text": [
      "Silhouette score is 0.454808671934264)\n"
     ]
    }
   ],
   "source": [
    "score = silhouette_score(data_array, result_Birch.labels_)\n",
    "print(\"Silhouette score is {})\".format(score))"
   ]
  },
  {
   "cell_type": "code",
   "execution_count": 143,
   "id": "25e154c0",
   "metadata": {},
   "outputs": [
    {
     "name": "stdout",
     "output_type": "stream",
     "text": [
      "Calinski_harabasz score is 45.96685633981852)\n"
     ]
    }
   ],
   "source": [
    "score = calinski_harabasz_score(data_array, result_Birch.labels_)\n",
    "print(\"Calinski_harabasz score is {})\".format(score))"
   ]
  },
  {
   "cell_type": "code",
   "execution_count": 144,
   "id": "1bc096cf",
   "metadata": {},
   "outputs": [
    {
     "name": "stdout",
     "output_type": "stream",
     "text": [
      "Davies_bouldin score is 1.2414447288298356)\n"
     ]
    }
   ],
   "source": [
    "score = davies_bouldin_score(data_array, result_Birch.labels_)\n",
    "print(\"Davies_bouldin score is {})\".format(score))"
   ]
  },
  {
   "cell_type": "markdown",
   "id": "c6347fbd",
   "metadata": {},
   "source": [
    "В данном методе показатели метрик имеют среднее значения."
   ]
  },
  {
   "cell_type": "markdown",
   "id": "f28015cc",
   "metadata": {},
   "source": [
    "### DBSCAN"
   ]
  },
  {
   "cell_type": "code",
   "execution_count": 158,
   "id": "fcdee8c2",
   "metadata": {},
   "outputs": [
    {
     "name": "stdout",
     "output_type": "stream",
     "text": [
      "Wall time: 175 ms\n"
     ]
    }
   ],
   "source": [
    "%time result_DBSCAN = DBSCAN(min_samples=3).fit(data_array)"
   ]
  },
  {
   "cell_type": "code",
   "execution_count": 159,
   "id": "42d0554d",
   "metadata": {},
   "outputs": [
    {
     "data": {
      "text/plain": [
       "array([-1,  0, -1, ..., 22, 34, 22], dtype=int64)"
      ]
     },
     "execution_count": 159,
     "metadata": {},
     "output_type": "execute_result"
    }
   ],
   "source": [
    "result_DBSCAN.labels_"
   ]
  },
  {
   "cell_type": "code",
   "execution_count": 160,
   "id": "3e70d135",
   "metadata": {
    "scrolled": true
   },
   "outputs": [
    {
     "data": {
      "text/plain": [
       "array([ -1,   0,   1,   2,   3,   4,   5,   6,   7,   8,   9,  10,  11,\n",
       "        12,  13,  14,  15,  16,  17,  18,  19,  20,  21,  22,  23,  24,\n",
       "        25,  26,  27,  28,  29,  30,  31,  32,  33,  34,  35,  36,  37,\n",
       "        38,  39,  40,  41,  42,  43,  44,  45,  46,  47,  48,  49,  50,\n",
       "        51,  52,  53,  54,  55,  56,  57,  58,  59,  60,  61,  62,  63,\n",
       "        64,  65,  66,  67,  68,  69,  70,  71,  72,  73,  74,  75,  76,\n",
       "        77,  78,  79,  80,  81,  82,  83,  84,  85,  86,  87,  88,  89,\n",
       "        90,  91,  92,  93,  94,  95,  96,  97,  98,  99, 100, 101, 102,\n",
       "       103, 104, 105, 106, 107, 108, 109, 110, 111, 112, 113, 114, 115,\n",
       "       116, 117, 118, 119, 120, 121, 122, 123, 124, 125, 126, 127, 128,\n",
       "       129, 130, 131, 132, 133, 134, 135, 136, 137, 138, 139, 140, 141,\n",
       "       142, 143, 144, 145, 146, 147, 148, 149, 150, 151, 152, 153, 154,\n",
       "       155, 156, 157, 158, 159, 160, 161, 162, 163, 164, 165, 166, 167,\n",
       "       168, 169, 170, 171, 172, 173, 174, 175, 176, 177, 178, 179, 180,\n",
       "       181, 182, 183, 184, 185, 186, 187, 188, 189, 190, 191, 192, 193,\n",
       "       194, 195, 196, 197, 198, 199, 200, 201, 202, 203, 204, 205],\n",
       "      dtype=int64)"
      ]
     },
     "execution_count": 160,
     "metadata": {},
     "output_type": "execute_result"
    }
   ],
   "source": [
    "np.unique(result_DBSCAN.labels_)"
   ]
  },
  {
   "cell_type": "code",
   "execution_count": 161,
   "id": "19cbc5a2",
   "metadata": {},
   "outputs": [
    {
     "data": {
      "text/plain": [
       "<AxesSubplot:>"
      ]
     },
     "execution_count": 161,
     "metadata": {},
     "output_type": "execute_result"
    },
    {
     "data": {
      "image/png": "[encoded data removed]",
      "text/plain": [
       "<Figure size 432x288 with 1 Axes>"
      ]
     },
     "metadata": {},
     "output_type": "display_data"
    }
   ],
   "source": [
    "sns.scatterplot(data=result_DBSCAN.labels_)"
   ]
  },
  {
   "cell_type": "markdown",
   "id": "41d7535b",
   "metadata": {},
   "source": [
    "Данный метод вичислил, что наилучшим значением гиперпараметра будет k = 206. График этого метода значительно отличается от предыдущих. Чем выше ранг человека в списке (чем меньше его номер в списке), тем больше вероятность того, что что этот человек попадет в начальные коастеры. Оценим модель с помощью метрик."
   ]
  },
  {
   "cell_type": "code",
   "execution_count": 165,
   "id": "9cf10664",
   "metadata": {},
   "outputs": [
    {
     "name": "stdout",
     "output_type": "stream",
     "text": [
      "Silhouette score is 0.5682758331644328)\n"
     ]
    }
   ],
   "source": [
    "score = silhouette_score(data_array, result_DBSCAN.labels_)\n",
    "print(\"Silhouette score is {})\".format(score))"
   ]
  },
  {
   "cell_type": "code",
   "execution_count": 166,
   "id": "09654e36",
   "metadata": {},
   "outputs": [
    {
     "name": "stdout",
     "output_type": "stream",
     "text": [
      "Calinski_harabasz score is 32.75950400067399)\n"
     ]
    }
   ],
   "source": [
    "score = calinski_harabasz_score(data_array, result_DBSCAN.labels_)\n",
    "print(\"Calinski_harabasz score is {})\".format(score))"
   ]
  },
  {
   "cell_type": "code",
   "execution_count": 167,
   "id": "05a1b6d7",
   "metadata": {},
   "outputs": [
    {
     "name": "stdout",
     "output_type": "stream",
     "text": [
      "Davies_bouldin score is 1.0872406145334894)\n"
     ]
    }
   ],
   "source": [
    "score = davies_bouldin_score(data_array, result_DBSCAN.labels_)\n",
    "print(\"Davies_bouldin score is {})\".format(score))"
   ]
  },
  {
   "cell_type": "markdown",
   "id": "d9e053bc",
   "metadata": {},
   "source": [
    "Оценки данной модели хорошие. 1 и 3 метрики имеют показатель выше среднего. 2 метрика имеет среднюю оценку."
   ]
  },
  {
   "cell_type": "markdown",
   "id": "7e3f9b2e",
   "metadata": {},
   "source": [
    "## 7) Формирование выводов о качестве построенных моделей на основе выбранных метрик."
   ]
  },
  {
   "cell_type": "code",
   "execution_count": 168,
   "id": "fed9f1e2",
   "metadata": {},
   "outputs": [
    {
     "data": {
      "text/html": [
       "<div>\n",
       "<style scoped>\n",
       "    .dataframe tbody tr th:only-of-type {\n",
       "        vertical-align: middle;\n",
       "    }\n",
       "\n",
       "    .dataframe tbody tr th {\n",
       "        vertical-align: top;\n",
       "    }\n",
       "\n",
       "    .dataframe thead th {\n",
       "        text-align: right;\n",
       "    }\n",
       "</style>\n",
       "<table border=\"1\" class=\"dataframe\">\n",
       "  <thead>\n",
       "    <tr style=\"text-align: right;\">\n",
       "      <th></th>\n",
       "      <th>Метод</th>\n",
       "      <th>Время выполнения(с)</th>\n",
       "      <th>Коэффициент силуэта</th>\n",
       "      <th>Индекс Калински-Харабаса</th>\n",
       "      <th>Индекс Дэвиса-Болдина</th>\n",
       "    </tr>\n",
       "  </thead>\n",
       "  <tbody>\n",
       "    <tr>\n",
       "      <th>0</th>\n",
       "      <td>KMeans</td>\n",
       "      <td>0,168</td>\n",
       "      <td>0.16</td>\n",
       "      <td>328</td>\n",
       "      <td>2.09</td>\n",
       "    </tr>\n",
       "    <tr>\n",
       "      <th>1</th>\n",
       "      <td>AgglomerativeClustering</td>\n",
       "      <td>0,610</td>\n",
       "      <td>0.59</td>\n",
       "      <td>76</td>\n",
       "      <td>1.31</td>\n",
       "    </tr>\n",
       "    <tr>\n",
       "      <th>2</th>\n",
       "      <td>Affinity Propagation</td>\n",
       "      <td>34,7</td>\n",
       "      <td>0.56</td>\n",
       "      <td>64</td>\n",
       "      <td>1.22</td>\n",
       "    </tr>\n",
       "    <tr>\n",
       "      <th>3</th>\n",
       "      <td>Birch</td>\n",
       "      <td>0,306</td>\n",
       "      <td>0.45</td>\n",
       "      <td>46</td>\n",
       "      <td>1.24</td>\n",
       "    </tr>\n",
       "    <tr>\n",
       "      <th>4</th>\n",
       "      <td>DBSCAN</td>\n",
       "      <td>0,175</td>\n",
       "      <td>0.57</td>\n",
       "      <td>32</td>\n",
       "      <td>1.09</td>\n",
       "    </tr>\n",
       "  </tbody>\n",
       "</table>\n",
       "</div>"
      ],
      "text/plain": [
       "                     Метод Время выполнения(с)  Коэффициент силуэта  \\\n",
       "0                   KMeans               0,168                 0.16   \n",
       "1  AgglomerativeClustering               0,610                 0.59   \n",
       "2     Affinity Propagation                34,7                 0.56   \n",
       "3                    Birch               0,306                 0.45   \n",
       "4                   DBSCAN               0,175                 0.57   \n",
       "\n",
       "   Индекс Калински-Харабаса  Индекс Дэвиса-Болдина  \n",
       "0                       328                   2.09  \n",
       "1                        76                   1.31  \n",
       "2                        64                   1.22  \n",
       "3                        46                   1.24  \n",
       "4                        32                   1.09  "
      ]
     },
     "execution_count": 168,
     "metadata": {},
     "output_type": "execute_result"
    }
   ],
   "source": [
    "tabledata = [[\"KMeans\", \"0,168\", 0.16, 328, 2.09],\n",
    "         [\"AgglomerativeClustering\", \"0,610\", 0.59, 76, 1.31],\n",
    "         [\"Affinity Propagation\", \"34,7\", 0.56, 64, 1.22],\n",
    "         [\"Birch\", \"0,306\", 0.45, 46, 1.24],\n",
    "         [\"DBSCAN\", \"0,175\", 0.57, 32, 1.09]]\n",
    "tabledata\n",
    "pd.DataFrame(tabledata, columns=[\"Метод\",\"Время выполнения(с)\", \"Коэффициент силуэта\", \"Индекс Калински-Харабаса\", \"Индекс Дэвиса-Болдина\"])"
   ]
  },
  {
   "cell_type": "markdown",
   "id": "a1aff949",
   "metadata": {},
   "source": [
    "Напомним значения оценок метрик:\n",
    "\n",
    "1) Индекс Дэвиса-Болдина означает среднее «сходство» между кластерами, где сходство — это мера, которая сравнивает расстояние между кластерами с размером самих кластеров. Ноль — это наименьший возможный результат. Значения, близкие к нулю, указывают на лучшее разделение.\n",
    "\n",
    "2) Индекс Калински-Харабаса представляет собой отношение суммы дисперсии между кластерами и дисперсии внутри кластера для всех кластеров (где дисперсия определяется как сумма квадратов расстояний). Оценка выше, когда кластеры плотные и хорошо разделенные, что относится к стандартной концепции кластера.\n",
    "\n",
    "3) Коэффициент силуэта является примером такой оценки, где более высокий показатель коэффициента силуэта относится к модели с лучше определенными кластерами. Оценка ограничена от -1 за неправильную кластеризацию до +1 за высокоплотную кластеризацию. Баллы около нуля указывают на перекрывающиеся кластеры.\n",
    "\n",
    "Итак, по представленным в таблице результатам мы можем выделить 2можеди с наилучшими показателями - это модель, обученная по алгоритму DBSCAN и модель, обученная по алгоритму AgglomerativeClustering. Они обе имеют относительно высокие показатели и небольшое время выполнения. Для реализации системы рекомендации собеседников мы бы предпочти качество времени. Поэтому самая лучшая модель, по нашему мнению, обучена методом AgglomerativeClustering. Эту модель можно рекомендовать для кластеризации данных подобного используемомудатасету типа. А именно данных о пользователях в системах рекомендаций собеседников."
   ]
  }
 ],
 "metadata": {
  "kernelspec": {
   "display_name": "Python 3 (ipykernel)",
   "language": "python",
   "name": "python3"
  },
  "language_info": {
   "codemirror_mode": {
    "name": "ipython",
    "version": 3
   },
   "file_extension": ".py",
   "mimetype": "text/x-python",
   "name": "python",
   "nbconvert_exporter": "python",
   "pygments_lexer": "ipython3",
   "version": "3.10.1"
  }
 },
 "nbformat": 4,
 "nbformat_minor": 5
}

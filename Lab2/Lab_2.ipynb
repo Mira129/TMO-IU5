{
 "cells": [
  {
   "cell_type": "markdown",
   "id": "037634d5",
   "metadata": {},
   "source": [
    "## Лабораторная работа №2\n",
    "\n",
    "Задание:\n",
    "\n",
    "1) Выбрать набор данных (датасет), содержащий категориальные признаки и пропуски в данных. Для выполнения следующих пунктов можно использовать несколько различных наборов данных (один для обработки пропусков, другой для категориальных признаков и т.д.)\n",
    "\n",
    "2) Для выбранного датасета (датасетов) на основе материалов лекции решить следующие задачи:\n",
    "<ul>\n",
    "   <li>обработку пропусков в данных;</li>\n",
    "   <li>кодирование категориальных признаков;</li>\n",
    "   <li>масштабирование данных.</li>"
   ]
  },
  {
   "cell_type": "markdown",
   "id": "4387e6d8",
   "metadata": {},
   "source": [
    "## Ход выполнения работы"
   ]
  },
  {
   "cell_type": "markdown",
   "id": "6f9c29b3",
   "metadata": {},
   "source": [
    "1) Текстовое описание набора данных\n",
    "\n",
    "В качестве набора данных я буду использовать набор данных о шоколадных батончиках и конфетах. https://www.kaggle.com/datasets/rtatman/chocolate-bar-ratings\n",
    "\n",
    "Датасет состоит из файла: flavors_of_cacao.csv\n",
    "\n",
    "Файл содержит следующие колонки:\n",
    "\n",
    "Name - название книги\n",
    "Author - Автор книги\n",
    "User rating - рейтинг книги\n",
    "Reviews - количество отзывов о книге\n",
    "Price - цена книги\n",
    "Year - год получения статуса бестселлер\n",
    "Genre - жанр"
   ]
  },
  {
   "cell_type": "code",
   "execution_count": 5,
   "id": "f7f1b072",
   "metadata": {},
   "outputs": [
    {
     "data": {
      "text/html": [
       "<div>\n",
       "<style scoped>\n",
       "    .dataframe tbody tr th:only-of-type {\n",
       "        vertical-align: middle;\n",
       "    }\n",
       "\n",
       "    .dataframe tbody tr th {\n",
       "        vertical-align: top;\n",
       "    }\n",
       "\n",
       "    .dataframe thead th {\n",
       "        text-align: right;\n",
       "    }\n",
       "</style>\n",
       "<table border=\"1\" class=\"dataframe\">\n",
       "  <thead>\n",
       "    <tr style=\"text-align: right;\">\n",
       "      <th></th>\n",
       "      <th>Company_(Maker-if_known)</th>\n",
       "      <th>Specific_Bean_Origin_or_Bar_Name</th>\n",
       "      <th>REF</th>\n",
       "      <th>Review_Date</th>\n",
       "      <th>Cocoa_Percent</th>\n",
       "      <th>Company_Location</th>\n",
       "      <th>Rating</th>\n",
       "      <th>Bean_Type</th>\n",
       "      <th>Broad_Bean_Origin</th>\n",
       "    </tr>\n",
       "  </thead>\n",
       "  <tbody>\n",
       "    <tr>\n",
       "      <th>0</th>\n",
       "      <td>A. Morin</td>\n",
       "      <td>Agua Grande</td>\n",
       "      <td>1876</td>\n",
       "      <td>2016.0</td>\n",
       "      <td>63%</td>\n",
       "      <td>France</td>\n",
       "      <td>3.75</td>\n",
       "      <td>NaN</td>\n",
       "      <td>Sao Tome</td>\n",
       "    </tr>\n",
       "    <tr>\n",
       "      <th>1</th>\n",
       "      <td>A. Morin</td>\n",
       "      <td>Kpime</td>\n",
       "      <td>1676</td>\n",
       "      <td>2015.0</td>\n",
       "      <td>70%</td>\n",
       "      <td>France</td>\n",
       "      <td>2.75</td>\n",
       "      <td>NaN</td>\n",
       "      <td>Togo</td>\n",
       "    </tr>\n",
       "    <tr>\n",
       "      <th>2</th>\n",
       "      <td>A. Morin</td>\n",
       "      <td>Atsane</td>\n",
       "      <td>1676</td>\n",
       "      <td>NaN</td>\n",
       "      <td>70%</td>\n",
       "      <td>France</td>\n",
       "      <td>3.00</td>\n",
       "      <td>NaN</td>\n",
       "      <td>Togo</td>\n",
       "    </tr>\n",
       "    <tr>\n",
       "      <th>3</th>\n",
       "      <td>A. Morin</td>\n",
       "      <td>Akata</td>\n",
       "      <td>1680</td>\n",
       "      <td>2015.0</td>\n",
       "      <td>70%</td>\n",
       "      <td>France</td>\n",
       "      <td>3.50</td>\n",
       "      <td>NaN</td>\n",
       "      <td>Togo</td>\n",
       "    </tr>\n",
       "    <tr>\n",
       "      <th>4</th>\n",
       "      <td>A. Morin</td>\n",
       "      <td>Quilla</td>\n",
       "      <td>1704</td>\n",
       "      <td>NaN</td>\n",
       "      <td>70%</td>\n",
       "      <td>France</td>\n",
       "      <td>3.50</td>\n",
       "      <td>NaN</td>\n",
       "      <td>Peru</td>\n",
       "    </tr>\n",
       "  </tbody>\n",
       "</table>\n",
       "</div>"
      ],
      "text/plain": [
       "  Company_(Maker-if_known) Specific_Bean_Origin_or_Bar_Name   REF  \\\n",
       "0                 A. Morin                      Agua Grande  1876   \n",
       "1                 A. Morin                            Kpime  1676   \n",
       "2                 A. Morin                           Atsane  1676   \n",
       "3                 A. Morin                            Akata  1680   \n",
       "4                 A. Morin                           Quilla  1704   \n",
       "\n",
       "   Review_Date Cocoa_Percent Company_Location  Rating Bean_Type  \\\n",
       "0       2016.0           63%           France    3.75       NaN   \n",
       "1       2015.0           70%           France    2.75       NaN   \n",
       "2          NaN           70%           France    3.00       NaN   \n",
       "3       2015.0           70%           France    3.50       NaN   \n",
       "4          NaN           70%           France    3.50       NaN   \n",
       "\n",
       "  Broad_Bean_Origin  \n",
       "0          Sao Tome  \n",
       "1              Togo  \n",
       "2              Togo  \n",
       "3              Togo  \n",
       "4              Peru  "
      ]
     },
     "execution_count": 5,
     "metadata": {},
     "output_type": "execute_result"
    }
   ],
   "source": [
    "import numpy as np\n",
    "import pandas as pd\n",
    "import seaborn as sns\n",
    "import matplotlib.pyplot as plt\n",
    "%matplotlib inline \n",
    "sns.set(style=\"ticks\")\n",
    "\n",
    "data = pd.read_csv('flavors_of_cacao.csv', sep=\",\")\n",
    "# Первые 5 строк датасета\n",
    "data.head()"
   ]
  },
  {
   "cell_type": "code",
   "execution_count": 6,
   "id": "11027769",
   "metadata": {},
   "outputs": [
    {
     "data": {
      "text/plain": [
       "(1795, 9)"
      ]
     },
     "execution_count": 6,
     "metadata": {},
     "output_type": "execute_result"
    }
   ],
   "source": [
    "# размер набора данных\n",
    "data.shape"
   ]
  },
  {
   "cell_type": "code",
   "execution_count": 7,
   "id": "4cc9a6f3",
   "metadata": {},
   "outputs": [
    {
     "data": {
      "text/plain": [
       "Company_(Maker-if_known)             object\n",
       "Specific_Bean_Origin_or_Bar_Name     object\n",
       "REF                                   int64\n",
       "Review_Date                         float64\n",
       "Cocoa_Percent                        object\n",
       "Company_Location                     object\n",
       "Rating                              float64\n",
       "Bean_Type                            object\n",
       "Broad_Bean_Origin                    object\n",
       "dtype: object"
      ]
     },
     "execution_count": 7,
     "metadata": {},
     "output_type": "execute_result"
    }
   ],
   "source": [
    "# типы колонок\n",
    "data.dtypes"
   ]
  },
  {
   "cell_type": "code",
   "execution_count": 8,
   "id": "59d18f12",
   "metadata": {},
   "outputs": [
    {
     "name": "stdout",
     "output_type": "stream",
     "text": [
      "Company_(Maker-if_known) - 0\n",
      "Specific_Bean_Origin_or_Bar_Name - 0\n",
      "REF - 0\n",
      "Review_Date - 53\n",
      "Cocoa_Percent - 44\n",
      "Company_Location - 62\n",
      "Rating - 0\n",
      "Bean_Type - 888\n",
      "Broad_Bean_Origin - 1\n"
     ]
    }
   ],
   "source": [
    "# Проверим наличие пустых значений\n",
    "# Цикл по колонкам датасета\n",
    "for col in data.columns:\n",
    "    # Количество пустых значений\n",
    "    temp_null_count = data[data[col].isnull()].shape[0]\n",
    "    print('{} - {}'.format(col, temp_null_count))"
   ]
  },
  {
   "cell_type": "markdown",
   "id": "afad16d4",
   "metadata": {},
   "source": [
    "Пропуски имеются в столбце числовых значений Review_Date и в столбцах категориальных данных Cocoa_Percent, Bean_Type, Broad_Bean_Origin"
   ]
  },
  {
   "cell_type": "markdown",
   "id": "7fb8d889",
   "metadata": {},
   "source": [
    "2) Обработка числовых значений.\n",
    "\n",
    "Поскольку число пропущенных значений в столбце с оценками батончиков составляет всего 3 %, я воспользуюсь средствами импьютации библиотеки scikit-learn."
   ]
  },
  {
   "cell_type": "code",
   "execution_count": 11,
   "id": "abcb6795",
   "metadata": {},
   "outputs": [
    {
     "data": {
      "text/html": [
       "<div>\n",
       "<style scoped>\n",
       "    .dataframe tbody tr th:only-of-type {\n",
       "        vertical-align: middle;\n",
       "    }\n",
       "\n",
       "    .dataframe tbody tr th {\n",
       "        vertical-align: top;\n",
       "    }\n",
       "\n",
       "    .dataframe thead th {\n",
       "        text-align: right;\n",
       "    }\n",
       "</style>\n",
       "<table border=\"1\" class=\"dataframe\">\n",
       "  <thead>\n",
       "    <tr style=\"text-align: right;\">\n",
       "      <th></th>\n",
       "      <th>Review_Date</th>\n",
       "    </tr>\n",
       "  </thead>\n",
       "  <tbody>\n",
       "    <tr>\n",
       "      <th>0</th>\n",
       "      <td>2016.0</td>\n",
       "    </tr>\n",
       "    <tr>\n",
       "      <th>1</th>\n",
       "      <td>2015.0</td>\n",
       "    </tr>\n",
       "    <tr>\n",
       "      <th>2</th>\n",
       "      <td>NaN</td>\n",
       "    </tr>\n",
       "    <tr>\n",
       "      <th>3</th>\n",
       "      <td>2015.0</td>\n",
       "    </tr>\n",
       "    <tr>\n",
       "      <th>4</th>\n",
       "      <td>NaN</td>\n",
       "    </tr>\n",
       "    <tr>\n",
       "      <th>...</th>\n",
       "      <td>...</td>\n",
       "    </tr>\n",
       "    <tr>\n",
       "      <th>1790</th>\n",
       "      <td>2011.0</td>\n",
       "    </tr>\n",
       "    <tr>\n",
       "      <th>1791</th>\n",
       "      <td>2011.0</td>\n",
       "    </tr>\n",
       "    <tr>\n",
       "      <th>1792</th>\n",
       "      <td>2011.0</td>\n",
       "    </tr>\n",
       "    <tr>\n",
       "      <th>1793</th>\n",
       "      <td>2011.0</td>\n",
       "    </tr>\n",
       "    <tr>\n",
       "      <th>1794</th>\n",
       "      <td>2010.0</td>\n",
       "    </tr>\n",
       "  </tbody>\n",
       "</table>\n",
       "<p>1795 rows × 1 columns</p>\n",
       "</div>"
      ],
      "text/plain": [
       "      Review_Date\n",
       "0          2016.0\n",
       "1          2015.0\n",
       "2             NaN\n",
       "3          2015.0\n",
       "4             NaN\n",
       "...           ...\n",
       "1790       2011.0\n",
       "1791       2011.0\n",
       "1792       2011.0\n",
       "1793       2011.0\n",
       "1794       2010.0\n",
       "\n",
       "[1795 rows x 1 columns]"
      ]
     },
     "execution_count": 11,
     "metadata": {},
     "output_type": "execute_result"
    }
   ],
   "source": [
    "review_count_data=data[['Review_Date']]\n",
    "review_count_data"
   ]
  },
  {
   "cell_type": "code",
   "execution_count": 12,
   "id": "46f22c2e",
   "metadata": {},
   "outputs": [
    {
     "data": {
      "text/plain": [
       "array([2006., 2007., 2008., 2009., 2010., 2011., 2012., 2013., 2014.,\n",
       "       2015., 2016., 2017.,   nan])"
      ]
     },
     "execution_count": 12,
     "metadata": {},
     "output_type": "execute_result"
    }
   ],
   "source": [
    "np.unique(review_count_data)"
   ]
  },
  {
   "cell_type": "code",
   "execution_count": 14,
   "id": "ecaec4b8",
   "metadata": {},
   "outputs": [
    {
     "data": {
      "text/plain": [
       "array([[2016.],\n",
       "       [2015.],\n",
       "       [2013.],\n",
       "       ...,\n",
       "       [2011.],\n",
       "       [2011.],\n",
       "       [2010.]])"
      ]
     },
     "execution_count": 14,
     "metadata": {},
     "output_type": "execute_result"
    }
   ],
   "source": [
    "from sklearn.impute import SimpleImputer\n",
    "from sklearn.impute import MissingIndicator\n",
    "# Импьютация медианой\n",
    "imputer1 = SimpleImputer(missing_values=np.nan, strategy='median')\n",
    "full_review_count = imputer1.fit_transform(review_count_data)\n",
    "full_review_count"
   ]
  },
  {
   "cell_type": "markdown",
   "id": "42e9512b",
   "metadata": {},
   "source": [
    "Убедимся, что пустые значения отсутствуют"
   ]
  },
  {
   "cell_type": "code",
   "execution_count": 15,
   "id": "a36788bf",
   "metadata": {},
   "outputs": [
    {
     "data": {
      "text/plain": [
       "array([2006., 2007., 2008., 2009., 2010., 2011., 2012., 2013., 2014.,\n",
       "       2015., 2016., 2017.])"
      ]
     },
     "execution_count": 15,
     "metadata": {},
     "output_type": "execute_result"
    }
   ],
   "source": [
    "np.unique(full_review_count)"
   ]
  },
  {
   "cell_type": "markdown",
   "id": "d9fb3079",
   "metadata": {},
   "source": [
    "Теперь заменим в data столбец Review_Date новым стольбцом без пропусков."
   ]
  },
  {
   "cell_type": "code",
   "execution_count": 18,
   "id": "1218839b",
   "metadata": {},
   "outputs": [
    {
     "data": {
      "text/html": [
       "<div>\n",
       "<style scoped>\n",
       "    .dataframe tbody tr th:only-of-type {\n",
       "        vertical-align: middle;\n",
       "    }\n",
       "\n",
       "    .dataframe tbody tr th {\n",
       "        vertical-align: top;\n",
       "    }\n",
       "\n",
       "    .dataframe thead th {\n",
       "        text-align: right;\n",
       "    }\n",
       "</style>\n",
       "<table border=\"1\" class=\"dataframe\">\n",
       "  <thead>\n",
       "    <tr style=\"text-align: right;\">\n",
       "      <th></th>\n",
       "      <th>Company_(Maker-if_known)</th>\n",
       "      <th>Specific_Bean_Origin_or_Bar_Name</th>\n",
       "      <th>REF</th>\n",
       "      <th>Review_Date</th>\n",
       "      <th>Cocoa_Percent</th>\n",
       "      <th>Company_Location</th>\n",
       "      <th>Rating</th>\n",
       "      <th>Bean_Type</th>\n",
       "      <th>Broad_Bean_Origin</th>\n",
       "    </tr>\n",
       "  </thead>\n",
       "  <tbody>\n",
       "    <tr>\n",
       "      <th>0</th>\n",
       "      <td>A. Morin</td>\n",
       "      <td>Agua Grande</td>\n",
       "      <td>1876</td>\n",
       "      <td>2016.0</td>\n",
       "      <td>63%</td>\n",
       "      <td>France</td>\n",
       "      <td>3.75</td>\n",
       "      <td>NaN</td>\n",
       "      <td>Sao Tome</td>\n",
       "    </tr>\n",
       "    <tr>\n",
       "      <th>1</th>\n",
       "      <td>A. Morin</td>\n",
       "      <td>Kpime</td>\n",
       "      <td>1676</td>\n",
       "      <td>2015.0</td>\n",
       "      <td>70%</td>\n",
       "      <td>France</td>\n",
       "      <td>2.75</td>\n",
       "      <td>NaN</td>\n",
       "      <td>Togo</td>\n",
       "    </tr>\n",
       "    <tr>\n",
       "      <th>2</th>\n",
       "      <td>A. Morin</td>\n",
       "      <td>Atsane</td>\n",
       "      <td>1676</td>\n",
       "      <td>2013.0</td>\n",
       "      <td>70%</td>\n",
       "      <td>France</td>\n",
       "      <td>3.00</td>\n",
       "      <td>NaN</td>\n",
       "      <td>Togo</td>\n",
       "    </tr>\n",
       "    <tr>\n",
       "      <th>3</th>\n",
       "      <td>A. Morin</td>\n",
       "      <td>Akata</td>\n",
       "      <td>1680</td>\n",
       "      <td>2015.0</td>\n",
       "      <td>70%</td>\n",
       "      <td>France</td>\n",
       "      <td>3.50</td>\n",
       "      <td>NaN</td>\n",
       "      <td>Togo</td>\n",
       "    </tr>\n",
       "    <tr>\n",
       "      <th>4</th>\n",
       "      <td>A. Morin</td>\n",
       "      <td>Quilla</td>\n",
       "      <td>1704</td>\n",
       "      <td>2013.0</td>\n",
       "      <td>70%</td>\n",
       "      <td>France</td>\n",
       "      <td>3.50</td>\n",
       "      <td>NaN</td>\n",
       "      <td>Peru</td>\n",
       "    </tr>\n",
       "  </tbody>\n",
       "</table>\n",
       "</div>"
      ],
      "text/plain": [
       "  Company_(Maker-if_known) Specific_Bean_Origin_or_Bar_Name   REF  \\\n",
       "0                 A. Morin                      Agua Grande  1876   \n",
       "1                 A. Morin                            Kpime  1676   \n",
       "2                 A. Morin                           Atsane  1676   \n",
       "3                 A. Morin                            Akata  1680   \n",
       "4                 A. Morin                           Quilla  1704   \n",
       "\n",
       "   Review_Date Cocoa_Percent Company_Location  Rating Bean_Type  \\\n",
       "0       2016.0           63%           France    3.75       NaN   \n",
       "1       2015.0           70%           France    2.75       NaN   \n",
       "2       2013.0           70%           France    3.00       NaN   \n",
       "3       2015.0           70%           France    3.50       NaN   \n",
       "4       2013.0           70%           France    3.50       NaN   \n",
       "\n",
       "  Broad_Bean_Origin  \n",
       "0          Sao Tome  \n",
       "1              Togo  \n",
       "2              Togo  \n",
       "3              Togo  \n",
       "4              Peru  "
      ]
     },
     "execution_count": 18,
     "metadata": {},
     "output_type": "execute_result"
    }
   ],
   "source": [
    "data['Review_Date'] = full_review_count.reshape(-1)\n",
    "data.head()"
   ]
  },
  {
   "cell_type": "markdown",
   "id": "244d7f88",
   "metadata": {},
   "source": [
    "3) Обработка категориальных значений.\n",
    "\n",
    "В качестве категориальных данных был выбран столбец Bean_Type. Поскольку данный признак имеет значение лишь для производителей и некоторых пользователей, разбирающихся в стортах какао, он не влияет на оценку батончика. Количество пропущенных значений составляет 50% от всех значений. На основании этих данных я решила, что заполнять пропуски не имеет смысла, лучше просто удалить данный столбец из датасета."
   ]
  },
  {
   "cell_type": "code",
   "execution_count": 22,
   "id": "b97e23d5",
   "metadata": {},
   "outputs": [
    {
     "data": {
      "text/html": [
       "<div>\n",
       "<style scoped>\n",
       "    .dataframe tbody tr th:only-of-type {\n",
       "        vertical-align: middle;\n",
       "    }\n",
       "\n",
       "    .dataframe tbody tr th {\n",
       "        vertical-align: top;\n",
       "    }\n",
       "\n",
       "    .dataframe thead th {\n",
       "        text-align: right;\n",
       "    }\n",
       "</style>\n",
       "<table border=\"1\" class=\"dataframe\">\n",
       "  <thead>\n",
       "    <tr style=\"text-align: right;\">\n",
       "      <th></th>\n",
       "      <th>Company_(Maker-if_known)</th>\n",
       "      <th>Specific_Bean_Origin_or_Bar_Name</th>\n",
       "      <th>REF</th>\n",
       "      <th>Review_Date</th>\n",
       "      <th>Cocoa_Percent</th>\n",
       "      <th>Company_Location</th>\n",
       "      <th>Rating</th>\n",
       "      <th>Broad_Bean_Origin</th>\n",
       "    </tr>\n",
       "  </thead>\n",
       "  <tbody>\n",
       "    <tr>\n",
       "      <th>0</th>\n",
       "      <td>A. Morin</td>\n",
       "      <td>Agua Grande</td>\n",
       "      <td>1876</td>\n",
       "      <td>2016.0</td>\n",
       "      <td>63%</td>\n",
       "      <td>France</td>\n",
       "      <td>3.75</td>\n",
       "      <td>Sao Tome</td>\n",
       "    </tr>\n",
       "    <tr>\n",
       "      <th>1</th>\n",
       "      <td>A. Morin</td>\n",
       "      <td>Kpime</td>\n",
       "      <td>1676</td>\n",
       "      <td>2015.0</td>\n",
       "      <td>70%</td>\n",
       "      <td>France</td>\n",
       "      <td>2.75</td>\n",
       "      <td>Togo</td>\n",
       "    </tr>\n",
       "    <tr>\n",
       "      <th>2</th>\n",
       "      <td>A. Morin</td>\n",
       "      <td>Atsane</td>\n",
       "      <td>1676</td>\n",
       "      <td>2013.0</td>\n",
       "      <td>70%</td>\n",
       "      <td>France</td>\n",
       "      <td>3.00</td>\n",
       "      <td>Togo</td>\n",
       "    </tr>\n",
       "    <tr>\n",
       "      <th>3</th>\n",
       "      <td>A. Morin</td>\n",
       "      <td>Akata</td>\n",
       "      <td>1680</td>\n",
       "      <td>2015.0</td>\n",
       "      <td>70%</td>\n",
       "      <td>France</td>\n",
       "      <td>3.50</td>\n",
       "      <td>Togo</td>\n",
       "    </tr>\n",
       "    <tr>\n",
       "      <th>4</th>\n",
       "      <td>A. Morin</td>\n",
       "      <td>Quilla</td>\n",
       "      <td>1704</td>\n",
       "      <td>2013.0</td>\n",
       "      <td>70%</td>\n",
       "      <td>France</td>\n",
       "      <td>3.50</td>\n",
       "      <td>Peru</td>\n",
       "    </tr>\n",
       "  </tbody>\n",
       "</table>\n",
       "</div>"
      ],
      "text/plain": [
       "  Company_(Maker-if_known) Specific_Bean_Origin_or_Bar_Name   REF  \\\n",
       "0                 A. Morin                      Agua Grande  1876   \n",
       "1                 A. Morin                            Kpime  1676   \n",
       "2                 A. Morin                           Atsane  1676   \n",
       "3                 A. Morin                            Akata  1680   \n",
       "4                 A. Morin                           Quilla  1704   \n",
       "\n",
       "   Review_Date Cocoa_Percent Company_Location  Rating Broad_Bean_Origin  \n",
       "0       2016.0           63%           France    3.75          Sao Tome  \n",
       "1       2015.0           70%           France    2.75              Togo  \n",
       "2       2013.0           70%           France    3.00              Togo  \n",
       "3       2015.0           70%           France    3.50              Togo  \n",
       "4       2013.0           70%           France    3.50              Peru  "
      ]
     },
     "execution_count": 22,
     "metadata": {},
     "output_type": "execute_result"
    }
   ],
   "source": [
    "data.drop(['Bean_Type'], inplace=True, axis=1)\n",
    "data.head()"
   ]
  },
  {
   "cell_type": "code",
   "execution_count": null,
   "id": "ef9a35c0",
   "metadata": {},
   "outputs": [],
   "source": []
  }
 ],
 "metadata": {
  "kernelspec": {
   "display_name": "Python 3 (ipykernel)",
   "language": "python",
   "name": "python3"
  },
  "language_info": {
   "codemirror_mode": {
    "name": "ipython",
    "version": 3
   },
   "file_extension": ".py",
   "mimetype": "text/x-python",
   "name": "python",
   "nbconvert_exporter": "python",
   "pygments_lexer": "ipython3",
   "version": "3.10.1"
  }
 },
 "nbformat": 4,
 "nbformat_minor": 5
}
